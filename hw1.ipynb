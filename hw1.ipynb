{
 "cells": [
  {
   "cell_type": "markdown",
   "id": "60d7bfb8-17dd-4592-a91c-192f409026f2",
   "metadata": {},
   "source": [
    "# Math stat hw1 "
   ]
  },
  {
   "cell_type": "markdown",
   "id": "090de49c-a693-4c3e-823d-12833d4e90d2",
   "metadata": {},
   "source": [
    "## Setting"
   ]
  },
  {
   "cell_type": "code",
   "execution_count": 1,
   "id": "06ec38df-3c83-44ed-82ab-aaa285d67a2f",
   "metadata": {},
   "outputs": [],
   "source": [
    "import pandas as pd\n",
    "import numpy as np\n",
    "from scipy.stats import norm"
   ]
  },
  {
   "cell_type": "code",
   "execution_count": 2,
   "id": "8ac806db-f6f2-483c-b4ef-e70f8ff5237a",
   "metadata": {},
   "outputs": [],
   "source": [
    "import matplotlib.pyplot as plt"
   ]
  },
  {
   "cell_type": "markdown",
   "id": "65f46f05-ff19-42b1-847d-c55802a284da",
   "metadata": {
    "tags": []
   },
   "source": [
    "## Task 1"
   ]
  },
  {
   "cell_type": "markdown",
   "id": "c0410536-a868-423a-95e1-34fa1bc9d9cb",
   "metadata": {},
   "source": [
    "Сумарний обсяг страхових позовiв до компанiї (у млн грн) є нормально розподiленою величиною з параметрами $(120,8^2)$, а сумарний обсяг отриманих\n",
    "премiй дорiвнює 135 млн грн. \n",
    "\n",
    "а) З якою ймовiрнiстю чистий прибуток компанiї\n",
    "(рiзниця отриманих премiй та позовiв) перевищує 10 млн грн? \n",
    "\n",
    "б) Яку найменшу кiлькiсть капiталу потрiбно додатково зарезервувати компанiї, щоб забезпечити виплати за позовами з iмовiрнiстю 99,5 %?"
   ]
  },
  {
   "cell_type": "markdown",
   "id": "418c1d65-64a3-4628-815a-8132e48407c7",
   "metadata": {},
   "source": [
    "### Solution"
   ]
  },
  {
   "cell_type": "markdown",
   "id": "d2f2e54f-2ce5-418d-876c-9da38be1fc9e",
   "metadata": {},
   "source": [
    "$\\xi$ -- обсяг страхових позовів, $\\xi \\sim \\mathcal{N} (120, 82)$"
   ]
  },
  {
   "cell_type": "markdown",
   "id": "a8636e0d-2b42-49c9-bc84-bf3bd05c1eb9",
   "metadata": {},
   "source": [
    "**a)** $P (135 - \\xi > 10) = P(\\xi - 120 < 5) = P\\left(\\frac{\\xi-120}{8} < \\frac58\\right) = \\Phi \\left(\\frac58\\right) $"
   ]
  },
  {
   "cell_type": "code",
   "execution_count": 3,
   "id": "f2e3fb40-636e-45a6-a804-c1f8edc3f872",
   "metadata": {
    "tags": []
   },
   "outputs": [
    {
     "data": {
      "text/plain": [
       "73.4"
      ]
     },
     "execution_count": 3,
     "metadata": {},
     "output_type": "execute_result"
    }
   ],
   "source": [
    "round(norm.cdf(5/8) * 100, 2)"
   ]
  },
  {
   "cell_type": "markdown",
   "id": "30b85a11-c530-4975-9aa9-1d7237611621",
   "metadata": {},
   "source": [
    "**b)** Нехай $x$ -- додатково зарезервовані млн грн \n",
    "\n",
    "$P(135 + x - \\xi > 0) = P\\left(\\frac{\\xi-120}{8} < \\frac{15+x}8\\right) = 0.995$\n",
    "\n",
    "$\\frac{15+x}8= \\mathcal{z}_{0.995}$\n",
    "\n",
    "$x = 8 \\cdot \\mathcal{z}_{0.995} - 15 \\approx 5.6$"
   ]
  },
  {
   "cell_type": "code",
   "execution_count": 4,
   "id": "edfd3c18-1be6-4bfa-9f80-b31966459408",
   "metadata": {},
   "outputs": [
    {
     "data": {
      "text/plain": [
       "2.5758293035489004"
      ]
     },
     "execution_count": 4,
     "metadata": {},
     "output_type": "execute_result"
    }
   ],
   "source": [
    "z = norm.ppf(0.995)\n",
    "z"
   ]
  },
  {
   "cell_type": "code",
   "execution_count": 5,
   "id": "97b8bdb3-e09a-4cfe-a100-00e5a1148cae",
   "metadata": {},
   "outputs": [
    {
     "data": {
      "text/plain": [
       "5.606634428391203"
      ]
     },
     "execution_count": 5,
     "metadata": {},
     "output_type": "execute_result"
    }
   ],
   "source": [
    "x = 8 * z - 15\n",
    "x"
   ]
  },
  {
   "cell_type": "markdown",
   "id": "cf3afc22-8c29-4b45-a160-676c4fa5e984",
   "metadata": {},
   "source": [
    "## Task 2"
   ]
  },
  {
   "cell_type": "markdown",
   "id": "26c531b7-9ef0-46b8-bcff-1c8b8539f678",
   "metadata": {},
   "source": [
    "Iз прискорювача елементарнi частинки вилiтають у напрямку високого екрану. Горизонтальне вiдхилення кожної частинки вiд центрального положення має нормальний розподiл iз середньоквадратичним вiдхиленням 0,5 м. Яку\n",
    "мiнiмальну ширину повинен мати екран, щоб 95 % випущених у його напрямку\n",
    "частинок влучили в нього?"
   ]
  },
  {
   "cell_type": "markdown",
   "id": "3f93c1c6-84f0-41e0-9c2d-ac08a104a847",
   "metadata": {},
   "source": [
    "### Solution"
   ]
  },
  {
   "cell_type": "markdown",
   "id": "54cdd689-4880-4303-914c-093e3624b17a",
   "metadata": {},
   "source": [
    "$\\xi \\sim \\mathcal{N} (0, 0.5^2)$,  $L = 2l$ -- ширина екрану"
   ]
  },
  {
   "cell_type": "markdown",
   "id": "c77305aa-991f-477d-a91a-3fe7869f3442",
   "metadata": {},
   "source": [
    "$P (\\xi \\in [-l, l]) = P\\left(2\\xi \\in [2l, 2l]\\right) = \\Phi (2l) - \\Phi (-2l)  = \\Phi (2l) - (1 - \\Phi(2l)) = 2\\Phi (2l) - 1 = 0.95$\n",
    "\n",
    "$\\Phi (2l) = \\frac{1.95}2 $\n",
    "\n",
    "$L = 2l = \\mathcal{z}_{1.95/2} \\approx 1.96$"
   ]
  },
  {
   "cell_type": "code",
   "execution_count": 6,
   "id": "91918aac-6f97-49e7-8fa0-69691de1fb7a",
   "metadata": {},
   "outputs": [],
   "source": [
    "L = norm.ppf(1.95/2)"
   ]
  },
  {
   "cell_type": "code",
   "execution_count": 7,
   "id": "7efcf6dd-2a4a-46e8-8095-6095d7567625",
   "metadata": {},
   "outputs": [
    {
     "data": {
      "text/plain": [
       "<matplotlib.collections.LineCollection at 0x7fcd652dab60>"
      ]
     },
     "execution_count": 7,
     "metadata": {},
     "output_type": "execute_result"
    },
    {
     "data": {
      "image/png": "[encoded data removed]",
      "text/plain": [
       "<Figure size 432x288 with 1 Axes>"
      ]
     },
     "metadata": {
      "needs_background": "light"
     },
     "output_type": "display_data"
    }
   ],
   "source": [
    "xi = norm(0, 0.5)\n",
    "x = np.linspace(-3, 3, 1000)\n",
    "plt.plot(x, xi.pdf(x))\n",
    "plt.vlines(x=L/2, ymin=0, ymax=xi.pdf(L/2), colors='black')\n",
    "plt.vlines(x=-L/2, ymin=0, ymax=xi.pdf(-L/2), colors='black')"
   ]
  },
  {
   "cell_type": "markdown",
   "id": "a17b015b-ff25-407c-9736-2732ab2fbecb",
   "metadata": {},
   "source": [
    "## Task 3"
   ]
  },
  {
   "cell_type": "markdown",
   "id": "ef41f330-3aad-4789-9ed5-98331ca070ac",
   "metadata": {},
   "source": [
    "Об’єм видобуваної компанiєю нафти (у млн барелiв) є нормально розподiленою випадковою величиною з параметрами $(35, 4^2)$, а об’єм замовлень -- незалежною вiд неї нормально розподiленою випадковою величиною з параметрами $(30, 2^2)$.\n",
    "\n",
    "a) Знайдiть iмовiрнiсть того, що компанiя зможе поставити\n",
    "замовлену нафту в повному обсязi. \n",
    "\n",
    "b) Скiльки нафти компанiя має помiстити у\n",
    "сховища (додатково до видобування), щоб iмовiрнiсть виконати всi замовлення\n",
    "дорiвнювала $98\\%$?"
   ]
  },
  {
   "cell_type": "markdown",
   "id": "59b5d194-bd54-45a8-832a-1a8d8b6af791",
   "metadata": {},
   "source": [
    "### Solution"
   ]
  },
  {
   "cell_type": "markdown",
   "id": "655ec2c7-9ec6-4c40-93d5-71a0a59a7044",
   "metadata": {},
   "source": [
    "$\\xi \\sim \\mathcal{N} (35, 4^2)$ -- об'єм видобуваної нафти\n",
    "\n",
    "$\\eta \\sim \\mathcal{N}(30, 2^2)$ -- об'єм замовлень"
   ]
  },
  {
   "cell_type": "markdown",
   "id": "43d5d25f-1343-4ece-a6b1-1c5dbf5c9a9d",
   "metadata": {},
   "source": [
    "**a)** $P(\\xi > \\eta) = P(\\xi - \\eta > 0)$\n",
    "\n",
    "$\\zeta = \\xi - \\eta \\sim \\mathcal{N} (35-30, 4^2 + 2^2) = \\mathcal{N} \\left(5, (2\\sqrt{5})^2\\right)$\n",
    "\n",
    "$P(\\zeta > 0) = P(\\zeta - 5 > -5) = P\\left(\\frac{\\zeta - 5}{2\\sqrt{5}} > -\\frac5{2\\sqrt{5}}\\right) = 1 - \\Phi \\left(-\\frac{\\sqrt{5}}{2}\\right) = \\Phi \\left(\\frac{\\sqrt{5}}2\\right) \\approx 0.87$"
   ]
  },
  {
   "cell_type": "code",
   "execution_count": 8,
   "id": "96810836-4094-4170-9567-596ae25bc711",
   "metadata": {},
   "outputs": [
    {
     "data": {
      "text/plain": [
       "0.8682237613585136"
      ]
     },
     "execution_count": 8,
     "metadata": {},
     "output_type": "execute_result"
    }
   ],
   "source": [
    "norm.cdf((5 ** 0.5) / 2)"
   ]
  },
  {
   "cell_type": "markdown",
   "id": "5d272fb5-5a03-4850-a8df-fb7b0746a612",
   "metadata": {},
   "source": [
    "**b)** Нехай $x$ -- нафта у сховищах\n",
    "\n",
    "$P(\\zeta + x > 0) = P\\left(\\frac{\\zeta - 5}{2\\sqrt{5}} > -\\frac{5+x}{2\\sqrt{5}}\\right) =\\Phi\\left(\\frac{5+x}{2\\sqrt{5}}\\right) = 0.98$\n",
    "\n",
    "$\\frac{5+x}{2\\sqrt{5}} = \\mathcal{z}_{0.98}$\n",
    "\n",
    "$x = \\mathcal{z}_{0.98} \\cdot 2\\sqrt{5} - 5 \\approx 4.18$"
   ]
  },
  {
   "cell_type": "code",
   "execution_count": 9,
   "id": "9f080b71-e549-4a37-a6c1-76c8e8345180",
   "metadata": {},
   "outputs": [
    {
     "data": {
      "text/plain": [
       "2.0537489106318225"
      ]
     },
     "execution_count": 9,
     "metadata": {},
     "output_type": "execute_result"
    }
   ],
   "source": [
    "z = norm.ppf(0.98)\n",
    "z"
   ]
  },
  {
   "cell_type": "code",
   "execution_count": 10,
   "id": "05b0ad23-540b-4328-8f43-c12b57e695b5",
   "metadata": {},
   "outputs": [
    {
     "data": {
      "text/plain": [
       "4.184644345777793"
      ]
     },
     "execution_count": 10,
     "metadata": {},
     "output_type": "execute_result"
    }
   ],
   "source": [
    "x = z * 2 * 5**0.5 - 5\n",
    "x"
   ]
  },
  {
   "cell_type": "markdown",
   "id": "53273e78-50eb-4706-a67c-eedd6f4f1400",
   "metadata": {},
   "source": [
    "## Task 4"
   ]
  },
  {
   "cell_type": "markdown",
   "id": "1a9190d0-f25f-4af9-85d0-7a2efe5d3e2b",
   "metadata": {},
   "source": [
    "Маркетингова компанiя хоче оцiнити, за якою часткою полiсiв автострахування протягом року були позови. Оскiльки страховi компанiї не розкривають цю iнформацiю, компанiя випадково вибрала 200 власникiв полiсiв i дiзналася, що позови були в 16 % з них. \n",
    "\n",
    "a) Побудуйте наближений довiрчий iнтервал рiвня 95 % для справжньої частки. \n",
    "\n",
    "b) Яким має бути обсяг вибiрки, щоб ширина отриманого довiрчого iнтервалу для частки не перевищувала 0,1?"
   ]
  },
  {
   "cell_type": "markdown",
   "id": "9de8ce07-b3fc-4713-8d76-8ad0ed268cc5",
   "metadata": {},
   "source": [
    "### Solution"
   ]
  },
  {
   "cell_type": "markdown",
   "id": "bef22802-b3fc-4e4a-9f2f-e15e603501e0",
   "metadata": {},
   "source": [
    "**a)** $\\hat{\\theta} = 0.16$\n",
    "\n",
    "$$\\theta_{\\pm} = \\hat{\\theta} \\pm \\mathcal{z}_{1-0.05/2} \\sqrt{\\frac{\\hat{\\theta}(1-\\hat{\\theta})}{n}}  $$"
   ]
  },
  {
   "cell_type": "code",
   "execution_count": 11,
   "id": "9d9a62ca-e1cc-413f-bd86-fa0491655141",
   "metadata": {},
   "outputs": [],
   "source": [
    "n = 200\n",
    "t_hat = 0.16"
   ]
  },
  {
   "cell_type": "code",
   "execution_count": 12,
   "id": "71704818-9580-4fbc-96f3-e3f0d7c4fe1f",
   "metadata": {},
   "outputs": [
    {
     "data": {
      "text/plain": [
       "1.959963984540054"
      ]
     },
     "execution_count": 12,
     "metadata": {},
     "output_type": "execute_result"
    }
   ],
   "source": [
    "z = norm.ppf(1-0.05/2)\n",
    "z"
   ]
  },
  {
   "cell_type": "code",
   "execution_count": 13,
   "id": "2ab6f74b-150d-4de6-a264-e68867adacc3",
   "metadata": {},
   "outputs": [],
   "source": [
    "delta = z * (t_hat * (1 - t_hat) / n)**0.5\n",
    "t_min = t_hat - delta \n",
    "t_max = t_hat + delta "
   ]
  },
  {
   "cell_type": "code",
   "execution_count": 14,
   "id": "1b3a4fb2-72c5-47ff-b96e-53712f7553ec",
   "metadata": {},
   "outputs": [
    {
     "data": {
      "text/plain": [
       "(0.10919192655191055, 0.21080807344808944, 0.1016161468961789)"
      ]
     },
     "execution_count": 14,
     "metadata": {},
     "output_type": "execute_result"
    }
   ],
   "source": [
    "t_min, t_max, 2*delta"
   ]
  },
  {
   "cell_type": "markdown",
   "id": "21d40609-d3f3-427c-95e7-784dfa786362",
   "metadata": {},
   "source": [
    "**b)** \n",
    "$$2\\mathcal{z} \\cdot \\sqrt{\\frac{\\hat{\\theta}(1-\\hat{\\theta})}{n}} < 0.1$$\n",
    "\n",
    "$$\\frac{\\hat{\\theta}(1-\\hat{\\theta})}{n} < \\left(\\frac{0.1}{2z}\\right)^2$$\n",
    "\n",
    "$$n > \\frac{4\\mathcal{z}^2\\hat{\\theta}(1-\\hat{\\theta})}{0.01}$$"
   ]
  },
  {
   "cell_type": "code",
   "execution_count": 15,
   "id": "429daedc-a686-4c10-b679-0c7690bae1ab",
   "metadata": {},
   "outputs": [
    {
     "data": {
      "text/plain": [
       "207"
      ]
     },
     "execution_count": 15,
     "metadata": {},
     "output_type": "execute_result"
    }
   ],
   "source": [
    "import math\n",
    "n_min = math.ceil(4 * z ** 2 * t_hat * (1-t_hat) / 0.01)\n",
    "n_min "
   ]
  },
  {
   "cell_type": "markdown",
   "id": "a32bc42d-99ab-4945-971c-69b71c869ae6",
   "metadata": {},
   "source": [
    "## Task 5"
   ]
  },
  {
   "cell_type": "markdown",
   "id": "12d1c96f-e8c6-482e-a367-6384265b300b",
   "metadata": {},
   "source": [
    "Використовуючи датасет \"Успiшнiсть студентiв\": \n",
    "\n",
    "а) оцiнiть частку студентiв, якi мають стандартний (standard) ланч; \n",
    "\n",
    "б) побудуйте наближений 95 %-й довiр-\n",
    "чий iнтервал для частки студентiв, якi мають стандартний ланч; \n",
    "\n",
    "в) побудуйте наближений 95 %-й довiрчий iнтервал для рiзницi часток студентiв-чоловiкiв\n",
    "та студентiв-жiнок, якi мають стандартний ланч."
   ]
  },
  {
   "cell_type": "markdown",
   "id": "80b8c774-0670-45da-a870-4f09661d7a91",
   "metadata": {},
   "source": [
    "### Solution"
   ]
  },
  {
   "cell_type": "code",
   "execution_count": 16,
   "id": "a8245e23-2484-4b06-bb66-caddb87cc2fa",
   "metadata": {},
   "outputs": [],
   "source": [
    "students = pd.read_csv('StudentsPerformance.csv', dtype={'math score': int, 'reading scire': int, 'writing score': int})"
   ]
  },
  {
   "cell_type": "code",
   "execution_count": 17,
   "id": "7dd5c5f8-280b-48e3-ac16-5ad90ddf5848",
   "metadata": {},
   "outputs": [
    {
     "data": {
      "text/html": [
       "<div>\n",
       "<style scoped>\n",
       "    .dataframe tbody tr th:only-of-type {\n",
       "        vertical-align: middle;\n",
       "    }\n",
       "\n",
       "    .dataframe tbody tr th {\n",
       "        vertical-align: top;\n",
       "    }\n",
       "\n",
       "    .dataframe thead th {\n",
       "        text-align: right;\n",
       "    }\n",
       "</style>\n",
       "<table border=\"1\" class=\"dataframe\">\n",
       "  <thead>\n",
       "    <tr style=\"text-align: right;\">\n",
       "      <th></th>\n",
       "      <th>gender</th>\n",
       "      <th>race/ethnicity</th>\n",
       "      <th>parental level of education</th>\n",
       "      <th>lunch</th>\n",
       "      <th>test preparation course</th>\n",
       "      <th>math score</th>\n",
       "      <th>reading score</th>\n",
       "      <th>writing score</th>\n",
       "    </tr>\n",
       "  </thead>\n",
       "  <tbody>\n",
       "    <tr>\n",
       "      <th>0</th>\n",
       "      <td>female</td>\n",
       "      <td>group B</td>\n",
       "      <td>bachelor's degree</td>\n",
       "      <td>standard</td>\n",
       "      <td>none</td>\n",
       "      <td>72</td>\n",
       "      <td>72</td>\n",
       "      <td>74</td>\n",
       "    </tr>\n",
       "    <tr>\n",
       "      <th>1</th>\n",
       "      <td>female</td>\n",
       "      <td>group C</td>\n",
       "      <td>some college</td>\n",
       "      <td>standard</td>\n",
       "      <td>completed</td>\n",
       "      <td>69</td>\n",
       "      <td>90</td>\n",
       "      <td>88</td>\n",
       "    </tr>\n",
       "    <tr>\n",
       "      <th>2</th>\n",
       "      <td>female</td>\n",
       "      <td>group B</td>\n",
       "      <td>master's degree</td>\n",
       "      <td>standard</td>\n",
       "      <td>none</td>\n",
       "      <td>90</td>\n",
       "      <td>95</td>\n",
       "      <td>93</td>\n",
       "    </tr>\n",
       "    <tr>\n",
       "      <th>3</th>\n",
       "      <td>male</td>\n",
       "      <td>group A</td>\n",
       "      <td>associate's degree</td>\n",
       "      <td>free/reduced</td>\n",
       "      <td>none</td>\n",
       "      <td>47</td>\n",
       "      <td>57</td>\n",
       "      <td>44</td>\n",
       "    </tr>\n",
       "    <tr>\n",
       "      <th>4</th>\n",
       "      <td>male</td>\n",
       "      <td>group C</td>\n",
       "      <td>some college</td>\n",
       "      <td>standard</td>\n",
       "      <td>none</td>\n",
       "      <td>76</td>\n",
       "      <td>78</td>\n",
       "      <td>75</td>\n",
       "    </tr>\n",
       "    <tr>\n",
       "      <th>...</th>\n",
       "      <td>...</td>\n",
       "      <td>...</td>\n",
       "      <td>...</td>\n",
       "      <td>...</td>\n",
       "      <td>...</td>\n",
       "      <td>...</td>\n",
       "      <td>...</td>\n",
       "      <td>...</td>\n",
       "    </tr>\n",
       "    <tr>\n",
       "      <th>995</th>\n",
       "      <td>female</td>\n",
       "      <td>group E</td>\n",
       "      <td>master's degree</td>\n",
       "      <td>standard</td>\n",
       "      <td>completed</td>\n",
       "      <td>88</td>\n",
       "      <td>99</td>\n",
       "      <td>95</td>\n",
       "    </tr>\n",
       "    <tr>\n",
       "      <th>996</th>\n",
       "      <td>male</td>\n",
       "      <td>group C</td>\n",
       "      <td>high school</td>\n",
       "      <td>free/reduced</td>\n",
       "      <td>none</td>\n",
       "      <td>62</td>\n",
       "      <td>55</td>\n",
       "      <td>55</td>\n",
       "    </tr>\n",
       "    <tr>\n",
       "      <th>997</th>\n",
       "      <td>female</td>\n",
       "      <td>group C</td>\n",
       "      <td>high school</td>\n",
       "      <td>free/reduced</td>\n",
       "      <td>completed</td>\n",
       "      <td>59</td>\n",
       "      <td>71</td>\n",
       "      <td>65</td>\n",
       "    </tr>\n",
       "    <tr>\n",
       "      <th>998</th>\n",
       "      <td>female</td>\n",
       "      <td>group D</td>\n",
       "      <td>some college</td>\n",
       "      <td>standard</td>\n",
       "      <td>completed</td>\n",
       "      <td>68</td>\n",
       "      <td>78</td>\n",
       "      <td>77</td>\n",
       "    </tr>\n",
       "    <tr>\n",
       "      <th>999</th>\n",
       "      <td>female</td>\n",
       "      <td>group D</td>\n",
       "      <td>some college</td>\n",
       "      <td>free/reduced</td>\n",
       "      <td>none</td>\n",
       "      <td>77</td>\n",
       "      <td>86</td>\n",
       "      <td>86</td>\n",
       "    </tr>\n",
       "  </tbody>\n",
       "</table>\n",
       "<p>1000 rows × 8 columns</p>\n",
       "</div>"
      ],
      "text/plain": [
       "     gender race/ethnicity parental level of education         lunch  \\\n",
       "0    female        group B           bachelor's degree      standard   \n",
       "1    female        group C                some college      standard   \n",
       "2    female        group B             master's degree      standard   \n",
       "3      male        group A          associate's degree  free/reduced   \n",
       "4      male        group C                some college      standard   \n",
       "..      ...            ...                         ...           ...   \n",
       "995  female        group E             master's degree      standard   \n",
       "996    male        group C                 high school  free/reduced   \n",
       "997  female        group C                 high school  free/reduced   \n",
       "998  female        group D                some college      standard   \n",
       "999  female        group D                some college  free/reduced   \n",
       "\n",
       "    test preparation course  math score  reading score  writing score  \n",
       "0                      none          72             72             74  \n",
       "1                 completed          69             90             88  \n",
       "2                      none          90             95             93  \n",
       "3                      none          47             57             44  \n",
       "4                      none          76             78             75  \n",
       "..                      ...         ...            ...            ...  \n",
       "995               completed          88             99             95  \n",
       "996                    none          62             55             55  \n",
       "997               completed          59             71             65  \n",
       "998               completed          68             78             77  \n",
       "999                    none          77             86             86  \n",
       "\n",
       "[1000 rows x 8 columns]"
      ]
     },
     "execution_count": 17,
     "metadata": {},
     "output_type": "execute_result"
    }
   ],
   "source": [
    "students"
   ]
  },
  {
   "cell_type": "markdown",
   "id": "74936699-8791-4cd6-b548-dffb620a04b5",
   "metadata": {},
   "source": [
    "#### **a)**"
   ]
  },
  {
   "cell_type": "code",
   "execution_count": 18,
   "id": "a080bb26-e3a4-4f27-82c9-e298bf2aa08c",
   "metadata": {},
   "outputs": [
    {
     "data": {
      "text/plain": [
       "<AxesSubplot:>"
      ]
     },
     "execution_count": 18,
     "metadata": {},
     "output_type": "execute_result"
    },
    {
     "data": {
      "image/png": "[encoded data removed]",
      "text/plain": [
       "<Figure size 432x288 with 1 Axes>"
      ]
     },
     "metadata": {
      "needs_background": "light"
     },
     "output_type": "display_data"
    }
   ],
   "source": [
    "students['lunch'].hist()"
   ]
  },
  {
   "cell_type": "code",
   "execution_count": 19,
   "id": "6e6174af-96fb-4473-b1ac-447004c74e13",
   "metadata": {},
   "outputs": [
    {
     "data": {
      "text/plain": [
       "0.645"
      ]
     },
     "execution_count": 19,
     "metadata": {},
     "output_type": "execute_result"
    }
   ],
   "source": [
    "th = (students['lunch'] == 'standard').mean()\n",
    "th"
   ]
  },
  {
   "cell_type": "markdown",
   "id": "8b93ed81-2bc0-49ab-b8c3-d4d5396f4f1c",
   "metadata": {},
   "source": [
    "#### **b)**"
   ]
  },
  {
   "cell_type": "code",
   "execution_count": 20,
   "id": "c8e891a6-5024-4d7a-a422-0ea97d3b4ed7",
   "metadata": {},
   "outputs": [
    {
     "data": {
      "text/plain": [
       "(1000, 1.959963984540054)"
      ]
     },
     "execution_count": 20,
     "metadata": {},
     "output_type": "execute_result"
    }
   ],
   "source": [
    "z = norm.ppf(1-0.05/2)\n",
    "n = students.shape[0]\n",
    "n, z"
   ]
  },
  {
   "cell_type": "code",
   "execution_count": 24,
   "id": "b9102fee-36ec-4a93-9d82-f17893731c7d",
   "metadata": {},
   "outputs": [],
   "source": [
    "delta = z * (th * (1 - th) / n)**0.5\n",
    "t_min = round(th - delta, 2)\n",
    "t_max = round(th + delta, 2)"
   ]
  },
  {
   "cell_type": "code",
   "execution_count": 25,
   "id": "11316b9b-b1dc-411d-9813-20e5d1e181f7",
   "metadata": {},
   "outputs": [
    {
     "data": {
      "text/plain": [
       "(0.62, 0.67)"
      ]
     },
     "execution_count": 25,
     "metadata": {},
     "output_type": "execute_result"
    }
   ],
   "source": [
    "t_min, t_max"
   ]
  },
  {
   "cell_type": "markdown",
   "id": "3ddf3a0c-1da5-40f3-b667-45df0d842755",
   "metadata": {},
   "source": [
    "#### **c)**"
   ]
  },
  {
   "cell_type": "markdown",
   "id": "9e27c036-e15a-4e26-9e75-6621489b1ef0",
   "metadata": {},
   "source": [
    "$p_i$ -- ймовірність мати стандартний ланч за умови, що особа чоловік ($i=1$) або жінка ($i=2$)\n",
    "\n",
    "$\\hat{p}_i$ -- оцінка циї ймовірностей частотами\n",
    "\n",
    "$$\\hat{p}_i \\sim \\mathcal{N} \\left(p_i, \\frac{p_i(1-p_i)}{n_i}\\right)$$\n",
    "\n",
    "$$\\hat{p}_1 - \\hat{p}_2 \\sim \\mathcal{N} \\left(p_1 - p_2, \\frac{p_1(1-p_1)}{n_i} + \\frac{p_2(1-p_2)}{n_2}\\right)$$\n",
    "\n",
    "Нехай $\\sigma_i^2 = \\frac{p_1(1-p_1)}{n_i}$. Тоді\n",
    "\n",
    "$$\\frac{\\hat{p}_1 - \\hat{p}_2 - (p_1 - p_2)}{\\sqrt{\\sigma_1^2 + \\sigma_2^2}} \\sim \\mathcal{N} \\left(0, 1\\right)$$\n"
   ]
  },
  {
   "cell_type": "code",
   "execution_count": 49,
   "id": "4b5c9f9f-c11f-46d8-8686-1389bf7e40bf",
   "metadata": {},
   "outputs": [],
   "source": [
    "n1 = (students['gender'] == 'male').sum()\n",
    "n2 = (students['gender'] == 'female').sum()"
   ]
  },
  {
   "cell_type": "code",
   "execution_count": 50,
   "id": "46074d68-2968-4203-9aef-5583551a6d0a",
   "metadata": {},
   "outputs": [
    {
     "data": {
      "text/plain": [
       "0.6556016597510373"
      ]
     },
     "execution_count": 50,
     "metadata": {},
     "output_type": "execute_result"
    }
   ],
   "source": [
    "p1h = ((students['lunch'] == 'standard') & (students['gender'] == 'male')).sum() / n1\n",
    "p1h"
   ]
  },
  {
   "cell_type": "code",
   "execution_count": 51,
   "id": "bc3c274f-60f9-45d8-a72a-ad006a1fb541",
   "metadata": {},
   "outputs": [
    {
     "data": {
      "text/plain": [
       "0.6351351351351351"
      ]
     },
     "execution_count": 51,
     "metadata": {},
     "output_type": "execute_result"
    }
   ],
   "source": [
    "p2h = ((students['lunch'] == 'standard') & (students['gender'] == 'female')).sum() / n2\n",
    "p2h"
   ]
  },
  {
   "cell_type": "code",
   "execution_count": 52,
   "id": "5ab5df80-2922-4e8d-9515-ebf62cc2e3e7",
   "metadata": {},
   "outputs": [
    {
     "data": {
      "text/plain": [
       "0.02046652461590226"
      ]
     },
     "execution_count": 52,
     "metadata": {},
     "output_type": "execute_result"
    }
   ],
   "source": [
    "p = p1 - p2\n",
    "p"
   ]
  },
  {
   "cell_type": "code",
   "execution_count": 54,
   "id": "6ec01b6b-8608-428d-b639-8f9c69a12aea",
   "metadata": {},
   "outputs": [],
   "source": [
    "delta = z * (p1h * (1 - p1h) / n1 + p2h * (1 - p2h) / n2) ** 0.5\n",
    "pmin = round(p - delta, 5)\n",
    "pmax = round(p + delta, 5)"
   ]
  },
  {
   "cell_type": "code",
   "execution_count": 55,
   "id": "7cd998de-d893-4cc3-abb0-f87e4d83d541",
   "metadata": {},
   "outputs": [
    {
     "data": {
      "text/plain": [
       "(-0.03885, 0.07978)"
      ]
     },
     "execution_count": 55,
     "metadata": {},
     "output_type": "execute_result"
    }
   ],
   "source": [
    "pmin, pmax"
   ]
  }
 ],
 "metadata": {
  "kernelspec": {
   "display_name": "Python 3",
   "language": "python",
   "name": "python3"
  },
  "language_info": {
   "codemirror_mode": {
    "name": "ipython",
    "version": 3
   },
   "file_extension": ".py",
   "mimetype": "text/x-python",
   "name": "python",
   "nbconvert_exporter": "python",
   "pygments_lexer": "ipython3",
   "version": "3.10.4"
  }
 },
 "nbformat": 4,
 "nbformat_minor": 5
}
