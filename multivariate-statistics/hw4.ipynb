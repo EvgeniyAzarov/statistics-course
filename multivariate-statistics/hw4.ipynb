{
 "cells": [
  {
   "attachments": {},
   "cell_type": "markdown",
   "metadata": {},
   "source": [
    "# HW 4. Linear Regression"
   ]
  },
  {
   "cell_type": "code",
   "execution_count": 27,
   "metadata": {},
   "outputs": [],
   "source": [
    "import numpy as np\n",
    "import scipy as sci\n",
    "import pandas as pd\n",
    "import matplotlib.pyplot as plt\n",
    "import statsmodels.api as sm\n",
    "from sklearn.linear_model import LinearRegression"
   ]
  },
  {
   "attachments": {},
   "cell_type": "markdown",
   "metadata": {},
   "source": [
    "## One-variable regression "
   ]
  },
  {
   "cell_type": "code",
   "execution_count": 28,
   "metadata": {},
   "outputs": [],
   "source": [
    "cols = [\"person\", \"height, inch\", \"weight, Ib\"]\n",
    "df = pd.read_table(\"data/T3_1_HEIGHTWT.DAT\", header=None, sep=\"\\s+\", names=cols)"
   ]
  },
  {
   "cell_type": "code",
   "execution_count": 29,
   "metadata": {},
   "outputs": [],
   "source": [
    "df['height, cm'] = df['height, inch'] * 2.54\n",
    "df['weight, kg'] = df['weight, Ib'] * 0.45359237"
   ]
  },
  {
   "cell_type": "code",
   "execution_count": 30,
   "metadata": {},
   "outputs": [
    {
     "data": {
      "text/html": [
       "<div>\n",
       "<style scoped>\n",
       "    .dataframe tbody tr th:only-of-type {\n",
       "        vertical-align: middle;\n",
       "    }\n",
       "\n",
       "    .dataframe tbody tr th {\n",
       "        vertical-align: top;\n",
       "    }\n",
       "\n",
       "    .dataframe thead th {\n",
       "        text-align: right;\n",
       "    }\n",
       "</style>\n",
       "<table border=\"1\" class=\"dataframe\">\n",
       "  <thead>\n",
       "    <tr style=\"text-align: right;\">\n",
       "      <th></th>\n",
       "      <th>person</th>\n",
       "      <th>height, inch</th>\n",
       "      <th>weight, Ib</th>\n",
       "      <th>height, cm</th>\n",
       "      <th>weight, kg</th>\n",
       "    </tr>\n",
       "  </thead>\n",
       "  <tbody>\n",
       "    <tr>\n",
       "      <th>0</th>\n",
       "      <td>1</td>\n",
       "      <td>69</td>\n",
       "      <td>153</td>\n",
       "      <td>175.26</td>\n",
       "      <td>69.399633</td>\n",
       "    </tr>\n",
       "    <tr>\n",
       "      <th>1</th>\n",
       "      <td>2</td>\n",
       "      <td>74</td>\n",
       "      <td>175</td>\n",
       "      <td>187.96</td>\n",
       "      <td>79.378665</td>\n",
       "    </tr>\n",
       "    <tr>\n",
       "      <th>2</th>\n",
       "      <td>3</td>\n",
       "      <td>68</td>\n",
       "      <td>155</td>\n",
       "      <td>172.72</td>\n",
       "      <td>70.306817</td>\n",
       "    </tr>\n",
       "    <tr>\n",
       "      <th>3</th>\n",
       "      <td>4</td>\n",
       "      <td>70</td>\n",
       "      <td>135</td>\n",
       "      <td>177.80</td>\n",
       "      <td>61.234970</td>\n",
       "    </tr>\n",
       "    <tr>\n",
       "      <th>4</th>\n",
       "      <td>5</td>\n",
       "      <td>72</td>\n",
       "      <td>172</td>\n",
       "      <td>182.88</td>\n",
       "      <td>78.017888</td>\n",
       "    </tr>\n",
       "    <tr>\n",
       "      <th>5</th>\n",
       "      <td>6</td>\n",
       "      <td>67</td>\n",
       "      <td>150</td>\n",
       "      <td>170.18</td>\n",
       "      <td>68.038855</td>\n",
       "    </tr>\n",
       "    <tr>\n",
       "      <th>6</th>\n",
       "      <td>7</td>\n",
       "      <td>66</td>\n",
       "      <td>115</td>\n",
       "      <td>167.64</td>\n",
       "      <td>52.163123</td>\n",
       "    </tr>\n",
       "    <tr>\n",
       "      <th>7</th>\n",
       "      <td>8</td>\n",
       "      <td>70</td>\n",
       "      <td>137</td>\n",
       "      <td>177.80</td>\n",
       "      <td>62.142155</td>\n",
       "    </tr>\n",
       "    <tr>\n",
       "      <th>8</th>\n",
       "      <td>9</td>\n",
       "      <td>76</td>\n",
       "      <td>200</td>\n",
       "      <td>193.04</td>\n",
       "      <td>90.718474</td>\n",
       "    </tr>\n",
       "    <tr>\n",
       "      <th>9</th>\n",
       "      <td>10</td>\n",
       "      <td>68</td>\n",
       "      <td>130</td>\n",
       "      <td>172.72</td>\n",
       "      <td>58.967008</td>\n",
       "    </tr>\n",
       "    <tr>\n",
       "      <th>10</th>\n",
       "      <td>11</td>\n",
       "      <td>72</td>\n",
       "      <td>140</td>\n",
       "      <td>182.88</td>\n",
       "      <td>63.502932</td>\n",
       "    </tr>\n",
       "    <tr>\n",
       "      <th>11</th>\n",
       "      <td>12</td>\n",
       "      <td>79</td>\n",
       "      <td>265</td>\n",
       "      <td>200.66</td>\n",
       "      <td>120.201978</td>\n",
       "    </tr>\n",
       "    <tr>\n",
       "      <th>12</th>\n",
       "      <td>13</td>\n",
       "      <td>74</td>\n",
       "      <td>185</td>\n",
       "      <td>187.96</td>\n",
       "      <td>83.914588</td>\n",
       "    </tr>\n",
       "    <tr>\n",
       "      <th>13</th>\n",
       "      <td>14</td>\n",
       "      <td>67</td>\n",
       "      <td>112</td>\n",
       "      <td>170.18</td>\n",
       "      <td>50.802345</td>\n",
       "    </tr>\n",
       "    <tr>\n",
       "      <th>14</th>\n",
       "      <td>15</td>\n",
       "      <td>66</td>\n",
       "      <td>140</td>\n",
       "      <td>167.64</td>\n",
       "      <td>63.502932</td>\n",
       "    </tr>\n",
       "    <tr>\n",
       "      <th>15</th>\n",
       "      <td>16</td>\n",
       "      <td>71</td>\n",
       "      <td>150</td>\n",
       "      <td>180.34</td>\n",
       "      <td>68.038855</td>\n",
       "    </tr>\n",
       "    <tr>\n",
       "      <th>16</th>\n",
       "      <td>17</td>\n",
       "      <td>74</td>\n",
       "      <td>165</td>\n",
       "      <td>187.96</td>\n",
       "      <td>74.842741</td>\n",
       "    </tr>\n",
       "    <tr>\n",
       "      <th>17</th>\n",
       "      <td>18</td>\n",
       "      <td>75</td>\n",
       "      <td>185</td>\n",
       "      <td>190.50</td>\n",
       "      <td>83.914588</td>\n",
       "    </tr>\n",
       "    <tr>\n",
       "      <th>18</th>\n",
       "      <td>19</td>\n",
       "      <td>75</td>\n",
       "      <td>210</td>\n",
       "      <td>190.50</td>\n",
       "      <td>95.254398</td>\n",
       "    </tr>\n",
       "    <tr>\n",
       "      <th>19</th>\n",
       "      <td>20</td>\n",
       "      <td>76</td>\n",
       "      <td>220</td>\n",
       "      <td>193.04</td>\n",
       "      <td>99.790321</td>\n",
       "    </tr>\n",
       "  </tbody>\n",
       "</table>\n",
       "</div>"
      ],
      "text/plain": [
       "    person  height, inch  weight, Ib  height, cm  weight, kg\n",
       "0        1            69         153      175.26   69.399633\n",
       "1        2            74         175      187.96   79.378665\n",
       "2        3            68         155      172.72   70.306817\n",
       "3        4            70         135      177.80   61.234970\n",
       "4        5            72         172      182.88   78.017888\n",
       "5        6            67         150      170.18   68.038855\n",
       "6        7            66         115      167.64   52.163123\n",
       "7        8            70         137      177.80   62.142155\n",
       "8        9            76         200      193.04   90.718474\n",
       "9       10            68         130      172.72   58.967008\n",
       "10      11            72         140      182.88   63.502932\n",
       "11      12            79         265      200.66  120.201978\n",
       "12      13            74         185      187.96   83.914588\n",
       "13      14            67         112      170.18   50.802345\n",
       "14      15            66         140      167.64   63.502932\n",
       "15      16            71         150      180.34   68.038855\n",
       "16      17            74         165      187.96   74.842741\n",
       "17      18            75         185      190.50   83.914588\n",
       "18      19            75         210      190.50   95.254398\n",
       "19      20            76         220      193.04   99.790321"
      ]
     },
     "execution_count": 30,
     "metadata": {},
     "output_type": "execute_result"
    }
   ],
   "source": [
    "df"
   ]
  },
  {
   "cell_type": "code",
   "execution_count": 31,
   "metadata": {},
   "outputs": [],
   "source": [
    "x = df['height, inch']\n",
    "y = df['weight, Ib']"
   ]
  },
  {
   "cell_type": "code",
   "execution_count": 32,
   "metadata": {},
   "outputs": [],
   "source": [
    "x = sm.add_constant(x)\n",
    "model = sm.OLS(y, x).fit()"
   ]
  },
  {
   "cell_type": "code",
   "execution_count": 33,
   "metadata": {},
   "outputs": [
    {
     "data": {
      "text/html": [
       "<table class=\"simpletable\">\n",
       "<caption>OLS Regression Results</caption>\n",
       "<tr>\n",
       "  <th>Dep. Variable:</th>       <td>weight, Ib</td>    <th>  R-squared:         </th> <td>   0.791</td>\n",
       "</tr>\n",
       "<tr>\n",
       "  <th>Model:</th>                   <td>OLS</td>       <th>  Adj. R-squared:    </th> <td>   0.779</td>\n",
       "</tr>\n",
       "<tr>\n",
       "  <th>Method:</th>             <td>Least Squares</td>  <th>  F-statistic:       </th> <td>   67.97</td>\n",
       "</tr>\n",
       "<tr>\n",
       "  <th>Date:</th>             <td>Thu, 08 Jun 2023</td> <th>  Prob (F-statistic):</th> <td>1.59e-07</td>\n",
       "</tr>\n",
       "<tr>\n",
       "  <th>Time:</th>                 <td>10:00:52</td>     <th>  Log-Likelihood:    </th> <td> -84.962</td>\n",
       "</tr>\n",
       "<tr>\n",
       "  <th>No. Observations:</th>      <td>    20</td>      <th>  AIC:               </th> <td>   173.9</td>\n",
       "</tr>\n",
       "<tr>\n",
       "  <th>Df Residuals:</th>          <td>    18</td>      <th>  BIC:               </th> <td>   175.9</td>\n",
       "</tr>\n",
       "<tr>\n",
       "  <th>Df Model:</th>              <td>     1</td>      <th>                     </th>     <td> </td>   \n",
       "</tr>\n",
       "<tr>\n",
       "  <th>Covariance Type:</th>      <td>nonrobust</td>    <th>                     </th>     <td> </td>   \n",
       "</tr>\n",
       "</table>\n",
       "<table class=\"simpletable\">\n",
       "<tr>\n",
       "        <td></td>          <th>coef</th>     <th>std err</th>      <th>t</th>      <th>P>|t|</th>  <th>[0.025</th>    <th>0.975]</th>  \n",
       "</tr>\n",
       "<tr>\n",
       "  <th>const</th>        <td> -467.0372</td> <td>   76.730</td> <td>   -6.087</td> <td> 0.000</td> <td> -628.242</td> <td> -305.833</td>\n",
       "</tr>\n",
       "<tr>\n",
       "  <th>height, inch</th> <td>    8.8417</td> <td>    1.072</td> <td>    8.244</td> <td> 0.000</td> <td>    6.589</td> <td>   11.095</td>\n",
       "</tr>\n",
       "</table>\n",
       "<table class=\"simpletable\">\n",
       "<tr>\n",
       "  <th>Omnibus:</th>       <td> 1.247</td> <th>  Durbin-Watson:     </th> <td>   2.490</td>\n",
       "</tr>\n",
       "<tr>\n",
       "  <th>Prob(Omnibus):</th> <td> 0.536</td> <th>  Jarque-Bera (JB):  </th> <td>   0.993</td>\n",
       "</tr>\n",
       "<tr>\n",
       "  <th>Skew:</th>          <td> 0.307</td> <th>  Prob(JB):          </th> <td>   0.609</td>\n",
       "</tr>\n",
       "<tr>\n",
       "  <th>Kurtosis:</th>      <td> 2.098</td> <th>  Cond. No.          </th> <td>1.38e+03</td>\n",
       "</tr>\n",
       "</table><br/><br/>Notes:<br/>[1] Standard Errors assume that the covariance matrix of the errors is correctly specified.<br/>[2] The condition number is large, 1.38e+03. This might indicate that there are<br/>strong multicollinearity or other numerical problems."
      ],
      "text/plain": [
       "<class 'statsmodels.iolib.summary.Summary'>\n",
       "\"\"\"\n",
       "                            OLS Regression Results                            \n",
       "==============================================================================\n",
       "Dep. Variable:             weight, Ib   R-squared:                       0.791\n",
       "Model:                            OLS   Adj. R-squared:                  0.779\n",
       "Method:                 Least Squares   F-statistic:                     67.97\n",
       "Date:                Thu, 08 Jun 2023   Prob (F-statistic):           1.59e-07\n",
       "Time:                        10:00:52   Log-Likelihood:                -84.962\n",
       "No. Observations:                  20   AIC:                             173.9\n",
       "Df Residuals:                      18   BIC:                             175.9\n",
       "Df Model:                           1                                         \n",
       "Covariance Type:            nonrobust                                         \n",
       "================================================================================\n",
       "                   coef    std err          t      P>|t|      [0.025      0.975]\n",
       "--------------------------------------------------------------------------------\n",
       "const         -467.0372     76.730     -6.087      0.000    -628.242    -305.833\n",
       "height, inch     8.8417      1.072      8.244      0.000       6.589      11.095\n",
       "==============================================================================\n",
       "Omnibus:                        1.247   Durbin-Watson:                   2.490\n",
       "Prob(Omnibus):                  0.536   Jarque-Bera (JB):                0.993\n",
       "Skew:                           0.307   Prob(JB):                        0.609\n",
       "Kurtosis:                       2.098   Cond. No.                     1.38e+03\n",
       "==============================================================================\n",
       "\n",
       "Notes:\n",
       "[1] Standard Errors assume that the covariance matrix of the errors is correctly specified.\n",
       "[2] The condition number is large, 1.38e+03. This might indicate that there are\n",
       "strong multicollinearity or other numerical problems.\n",
       "\"\"\""
      ]
     },
     "execution_count": 33,
     "metadata": {},
     "output_type": "execute_result"
    }
   ],
   "source": [
    "model.summary()"
   ]
  },
  {
   "attachments": {},
   "cell_type": "markdown",
   "metadata": {},
   "source": [
    "## Multivariate regression"
   ]
  },
  {
   "cell_type": "code",
   "execution_count": 34,
   "metadata": {},
   "outputs": [],
   "source": [
    "cols = [\"patient\", \"rel weight\", \"fasting plasma glucose\", \"glucose intolerance\", \"insulin response\", \"insulin resistance\"]\n",
    "cols = [\"patient\", \"y1\", \"y2\", \"x1\", \"x2\", \"x3\"]\n",
    "df = pd.read_table(\"data/T3_4_DIABETES.DAT\", header=None, sep=\"\\s+\", names=cols)"
   ]
  },
  {
   "cell_type": "code",
   "execution_count": 35,
   "metadata": {},
   "outputs": [
    {
     "data": {
      "text/html": [
       "<div>\n",
       "<style scoped>\n",
       "    .dataframe tbody tr th:only-of-type {\n",
       "        vertical-align: middle;\n",
       "    }\n",
       "\n",
       "    .dataframe tbody tr th {\n",
       "        vertical-align: top;\n",
       "    }\n",
       "\n",
       "    .dataframe thead th {\n",
       "        text-align: right;\n",
       "    }\n",
       "</style>\n",
       "<table border=\"1\" class=\"dataframe\">\n",
       "  <thead>\n",
       "    <tr style=\"text-align: right;\">\n",
       "      <th></th>\n",
       "      <th>patient</th>\n",
       "      <th>y1</th>\n",
       "      <th>y2</th>\n",
       "      <th>x1</th>\n",
       "      <th>x2</th>\n",
       "      <th>x3</th>\n",
       "    </tr>\n",
       "  </thead>\n",
       "  <tbody>\n",
       "    <tr>\n",
       "      <th>0</th>\n",
       "      <td>1</td>\n",
       "      <td>0.81</td>\n",
       "      <td>80</td>\n",
       "      <td>356</td>\n",
       "      <td>124</td>\n",
       "      <td>55</td>\n",
       "    </tr>\n",
       "    <tr>\n",
       "      <th>1</th>\n",
       "      <td>2</td>\n",
       "      <td>0.95</td>\n",
       "      <td>97</td>\n",
       "      <td>289</td>\n",
       "      <td>117</td>\n",
       "      <td>76</td>\n",
       "    </tr>\n",
       "    <tr>\n",
       "      <th>2</th>\n",
       "      <td>3</td>\n",
       "      <td>0.94</td>\n",
       "      <td>105</td>\n",
       "      <td>319</td>\n",
       "      <td>143</td>\n",
       "      <td>105</td>\n",
       "    </tr>\n",
       "    <tr>\n",
       "      <th>3</th>\n",
       "      <td>4</td>\n",
       "      <td>1.04</td>\n",
       "      <td>90</td>\n",
       "      <td>356</td>\n",
       "      <td>199</td>\n",
       "      <td>108</td>\n",
       "    </tr>\n",
       "    <tr>\n",
       "      <th>4</th>\n",
       "      <td>5</td>\n",
       "      <td>1.00</td>\n",
       "      <td>90</td>\n",
       "      <td>323</td>\n",
       "      <td>240</td>\n",
       "      <td>143</td>\n",
       "    </tr>\n",
       "  </tbody>\n",
       "</table>\n",
       "</div>"
      ],
      "text/plain": [
       "   patient    y1   y2   x1   x2   x3\n",
       "0        1  0.81   80  356  124   55\n",
       "1        2  0.95   97  289  117   76\n",
       "2        3  0.94  105  319  143  105\n",
       "3        4  1.04   90  356  199  108\n",
       "4        5  1.00   90  323  240  143"
      ]
     },
     "execution_count": 35,
     "metadata": {},
     "output_type": "execute_result"
    }
   ],
   "source": [
    "df.head()"
   ]
  },
  {
   "cell_type": "code",
   "execution_count": 36,
   "metadata": {},
   "outputs": [],
   "source": [
    "y = df.iloc[:, 1]\n",
    "x = df.iloc[:, 3:]"
   ]
  },
  {
   "cell_type": "code",
   "execution_count": 37,
   "metadata": {},
   "outputs": [],
   "source": [
    "x = sm.add_constant(x)"
   ]
  },
  {
   "cell_type": "code",
   "execution_count": 38,
   "metadata": {},
   "outputs": [],
   "source": [
    "model = sm.OLS(y, x).fit()"
   ]
  },
  {
   "cell_type": "code",
   "execution_count": 39,
   "metadata": {},
   "outputs": [
    {
     "data": {
      "text/html": [
       "<table class=\"simpletable\">\n",
       "<caption>OLS Regression Results</caption>\n",
       "<tr>\n",
       "  <th>Dep. Variable:</th>           <td>y1</td>        <th>  R-squared:         </th> <td>   0.258</td>\n",
       "</tr>\n",
       "<tr>\n",
       "  <th>Model:</th>                   <td>OLS</td>       <th>  Adj. R-squared:    </th> <td>   0.205</td>\n",
       "</tr>\n",
       "<tr>\n",
       "  <th>Method:</th>             <td>Least Squares</td>  <th>  F-statistic:       </th> <td>   4.877</td>\n",
       "</tr>\n",
       "<tr>\n",
       "  <th>Date:</th>             <td>Thu, 08 Jun 2023</td> <th>  Prob (F-statistic):</th>  <td>0.00534</td>\n",
       "</tr>\n",
       "<tr>\n",
       "  <th>Time:</th>                 <td>10:00:56</td>     <th>  Log-Likelihood:    </th> <td>  36.957</td>\n",
       "</tr>\n",
       "<tr>\n",
       "  <th>No. Observations:</th>      <td>    46</td>      <th>  AIC:               </th> <td>  -65.91</td>\n",
       "</tr>\n",
       "<tr>\n",
       "  <th>Df Residuals:</th>          <td>    42</td>      <th>  BIC:               </th> <td>  -58.60</td>\n",
       "</tr>\n",
       "<tr>\n",
       "  <th>Df Model:</th>              <td>     3</td>      <th>                     </th>     <td> </td>   \n",
       "</tr>\n",
       "<tr>\n",
       "  <th>Covariance Type:</th>      <td>nonrobust</td>    <th>                     </th>     <td> </td>   \n",
       "</tr>\n",
       "</table>\n",
       "<table class=\"simpletable\">\n",
       "<tr>\n",
       "    <td></td>       <th>coef</th>     <th>std err</th>      <th>t</th>      <th>P>|t|</th>  <th>[0.025</th>    <th>0.975]</th>  \n",
       "</tr>\n",
       "<tr>\n",
       "  <th>const</th> <td>    0.6264</td> <td>    0.176</td> <td>    3.565</td> <td> 0.001</td> <td>    0.272</td> <td>    0.981</td>\n",
       "</tr>\n",
       "<tr>\n",
       "  <th>x1</th>    <td>    0.0009</td> <td>    0.001</td> <td>    1.729</td> <td> 0.091</td> <td>   -0.000</td> <td>    0.002</td>\n",
       "</tr>\n",
       "<tr>\n",
       "  <th>x2</th>    <td>   -0.0010</td> <td>    0.000</td> <td>   -2.308</td> <td> 0.026</td> <td>   -0.002</td> <td>   -0.000</td>\n",
       "</tr>\n",
       "<tr>\n",
       "  <th>x3</th>    <td>    0.0015</td> <td>    0.000</td> <td>    3.505</td> <td> 0.001</td> <td>    0.001</td> <td>    0.002</td>\n",
       "</tr>\n",
       "</table>\n",
       "<table class=\"simpletable\">\n",
       "<tr>\n",
       "  <th>Omnibus:</th>       <td> 2.632</td> <th>  Durbin-Watson:     </th> <td>   2.180</td>\n",
       "</tr>\n",
       "<tr>\n",
       "  <th>Prob(Omnibus):</th> <td> 0.268</td> <th>  Jarque-Bera (JB):  </th> <td>   1.883</td>\n",
       "</tr>\n",
       "<tr>\n",
       "  <th>Skew:</th>          <td> 0.053</td> <th>  Prob(JB):          </th> <td>   0.390</td>\n",
       "</tr>\n",
       "<tr>\n",
       "  <th>Kurtosis:</th>      <td> 3.985</td> <th>  Cond. No.          </th> <td>4.17e+03</td>\n",
       "</tr>\n",
       "</table><br/><br/>Notes:<br/>[1] Standard Errors assume that the covariance matrix of the errors is correctly specified.<br/>[2] The condition number is large, 4.17e+03. This might indicate that there are<br/>strong multicollinearity or other numerical problems."
      ],
      "text/plain": [
       "<class 'statsmodels.iolib.summary.Summary'>\n",
       "\"\"\"\n",
       "                            OLS Regression Results                            \n",
       "==============================================================================\n",
       "Dep. Variable:                     y1   R-squared:                       0.258\n",
       "Model:                            OLS   Adj. R-squared:                  0.205\n",
       "Method:                 Least Squares   F-statistic:                     4.877\n",
       "Date:                Thu, 08 Jun 2023   Prob (F-statistic):            0.00534\n",
       "Time:                        10:00:56   Log-Likelihood:                 36.957\n",
       "No. Observations:                  46   AIC:                            -65.91\n",
       "Df Residuals:                      42   BIC:                            -58.60\n",
       "Df Model:                           3                                         \n",
       "Covariance Type:            nonrobust                                         \n",
       "==============================================================================\n",
       "                 coef    std err          t      P>|t|      [0.025      0.975]\n",
       "------------------------------------------------------------------------------\n",
       "const          0.6264      0.176      3.565      0.001       0.272       0.981\n",
       "x1             0.0009      0.001      1.729      0.091      -0.000       0.002\n",
       "x2            -0.0010      0.000     -2.308      0.026      -0.002      -0.000\n",
       "x3             0.0015      0.000      3.505      0.001       0.001       0.002\n",
       "==============================================================================\n",
       "Omnibus:                        2.632   Durbin-Watson:                   2.180\n",
       "Prob(Omnibus):                  0.268   Jarque-Bera (JB):                1.883\n",
       "Skew:                           0.053   Prob(JB):                        0.390\n",
       "Kurtosis:                       3.985   Cond. No.                     4.17e+03\n",
       "==============================================================================\n",
       "\n",
       "Notes:\n",
       "[1] Standard Errors assume that the covariance matrix of the errors is correctly specified.\n",
       "[2] The condition number is large, 4.17e+03. This might indicate that there are\n",
       "strong multicollinearity or other numerical problems.\n",
       "\"\"\""
      ]
     },
     "execution_count": 39,
     "metadata": {},
     "output_type": "execute_result"
    }
   ],
   "source": [
    "model.summary()"
   ]
  },
  {
   "attachments": {},
   "cell_type": "markdown",
   "metadata": {},
   "source": [
    "## Multivariate vector regression"
   ]
  },
  {
   "cell_type": "code",
   "execution_count": 40,
   "metadata": {},
   "outputs": [],
   "source": [
    "from sklearn import metrics"
   ]
  },
  {
   "cell_type": "code",
   "execution_count": 41,
   "metadata": {},
   "outputs": [],
   "source": [
    "y = df.iloc[:, 1:3]\n",
    "x = df.iloc[:, 3:]"
   ]
  },
  {
   "cell_type": "code",
   "execution_count": 42,
   "metadata": {},
   "outputs": [
    {
     "data": {
      "text/plain": [
       "LinearRegression()"
      ]
     },
     "execution_count": 42,
     "metadata": {},
     "output_type": "execute_result"
    }
   ],
   "source": [
    "model = LinearRegression() \n",
    "model.fit(x, y)"
   ]
  },
  {
   "cell_type": "code",
   "execution_count": 43,
   "metadata": {},
   "outputs": [
    {
     "data": {
      "text/plain": [
       "array([[ 0.00090822, -0.00095571,  0.00148974],\n",
       "       [ 0.02870058, -0.01272444, -0.00440592]])"
      ]
     },
     "execution_count": 43,
     "metadata": {},
     "output_type": "execute_result"
    }
   ],
   "source": [
    "model.coef_"
   ]
  },
  {
   "cell_type": "code",
   "execution_count": 44,
   "metadata": {},
   "outputs": [
    {
     "name": "stdout",
     "output_type": "stream",
     "text": [
      "r2:  0.1373\n",
      "MAE:  3.3378\n",
      "MSE:  33.9562\n",
      "RMSE:  5.8272\n"
     ]
    }
   ],
   "source": [
    "y_true, y_pred = y, model.predict(x)\n",
    "\n",
    "mean_absolute_error=metrics.mean_absolute_error(y_true, y_pred) \n",
    "mse=metrics.mean_squared_error(y_true, y_pred) \n",
    "r2=metrics.r2_score(y_true, y_pred)\n",
    "\n",
    "print('r2: ', round(r2,4))\n",
    "print('MAE: ', round(mean_absolute_error,4))\n",
    "print('MSE: ', round(mse,4))\n",
    "print('RMSE: ', round(np.sqrt(mse),4))"
   ]
  },
  {
   "cell_type": "code",
   "execution_count": 45,
   "metadata": {},
   "outputs": [],
   "source": [
    "y = df.iloc[:, 1:3]\n",
    "x = df.iloc[:, 3:]"
   ]
  },
  {
   "cell_type": "code",
   "execution_count": 52,
   "metadata": {},
   "outputs": [],
   "source": [
    "model = sm.MANOVA.from_formula(\"y1+y2~x1+x2+x3\", data=df)"
   ]
  },
  {
   "cell_type": "code",
   "execution_count": 53,
   "metadata": {},
   "outputs": [
    {
     "name": "stdout",
     "output_type": "stream",
     "text": [
      "                 Multivariate linear model\n",
      "============================================================\n",
      "                                                            \n",
      "------------------------------------------------------------\n",
      "       Intercept        Value  Num DF  Den DF F Value Pr > F\n",
      "------------------------------------------------------------\n",
      "          Wilks' lambda 0.4891 2.0000 41.0000 21.4134 0.0000\n",
      "         Pillai's trace 0.5109 2.0000 41.0000 21.4134 0.0000\n",
      " Hotelling-Lawley trace 1.0446 2.0000 41.0000 21.4134 0.0000\n",
      "    Roy's greatest root 1.0446 2.0000 41.0000 21.4134 0.0000\n",
      "------------------------------------------------------------\n",
      "                                                            \n",
      "------------------------------------------------------------\n",
      "           x1           Value  Num DF  Den DF F Value Pr > F\n",
      "------------------------------------------------------------\n",
      "          Wilks' lambda 0.9310 2.0000 41.0000  1.5188 0.2310\n",
      "         Pillai's trace 0.0690 2.0000 41.0000  1.5188 0.2310\n",
      " Hotelling-Lawley trace 0.0741 2.0000 41.0000  1.5188 0.2310\n",
      "    Roy's greatest root 0.0741 2.0000 41.0000  1.5188 0.2310\n",
      "------------------------------------------------------------\n",
      "                                                            \n",
      "------------------------------------------------------------\n",
      "           x2           Value  Num DF  Den DF F Value Pr > F\n",
      "------------------------------------------------------------\n",
      "          Wilks' lambda 0.8872 2.0000 41.0000  2.6055 0.0861\n",
      "         Pillai's trace 0.1128 2.0000 41.0000  2.6055 0.0861\n",
      " Hotelling-Lawley trace 0.1271 2.0000 41.0000  2.6055 0.0861\n",
      "    Roy's greatest root 0.1271 2.0000 41.0000  2.6055 0.0861\n",
      "------------------------------------------------------------\n",
      "                                                            \n",
      "------------------------------------------------------------\n",
      "           x3           Value  Num DF  Den DF F Value Pr > F\n",
      "------------------------------------------------------------\n",
      "          Wilks' lambda 0.7616 2.0000 41.0000  6.4171 0.0038\n",
      "         Pillai's trace 0.2384 2.0000 41.0000  6.4171 0.0038\n",
      " Hotelling-Lawley trace 0.3130 2.0000 41.0000  6.4171 0.0038\n",
      "    Roy's greatest root 0.3130 2.0000 41.0000  6.4171 0.0038\n",
      "============================================================\n",
      "\n"
     ]
    }
   ],
   "source": [
    "print(model.mv_test())"
   ]
  }
 ],
 "metadata": {
  "kernelspec": {
   "display_name": "Python 3",
   "language": "python",
   "name": "python3"
  },
  "language_info": {
   "codemirror_mode": {
    "name": "ipython",
    "version": 3
   },
   "file_extension": ".py",
   "mimetype": "text/x-python",
   "name": "python",
   "nbconvert_exporter": "python",
   "pygments_lexer": "ipython3",
   "version": "3.10.9"
  },
  "orig_nbformat": 4
 },
 "nbformat": 4,
 "nbformat_minor": 2
}
