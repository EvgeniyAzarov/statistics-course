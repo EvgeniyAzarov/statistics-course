{
 "cells": [
  {
   "attachments": {},
   "cell_type": "markdown",
   "metadata": {},
   "source": [
    "# HW3. MANOVA "
   ]
  },
  {
   "cell_type": "code",
   "execution_count": 13,
   "metadata": {},
   "outputs": [],
   "source": [
    "import numpy as np\n",
    "import scipy as sci\n",
    "import pandas as pd\n",
    "import matplotlib.pyplot as plt\n",
    "import matplotlib.ticker as mtick\n",
    "import statsmodels.api as sm"
   ]
  },
  {
   "cell_type": "code",
   "execution_count": 2,
   "metadata": {},
   "outputs": [],
   "source": [
    "np.set_printoptions(linewidth=1000)"
   ]
  },
  {
   "cell_type": "code",
   "execution_count": 6,
   "metadata": {},
   "outputs": [],
   "source": [
    "cols = [\"method\"] + [f\"y{i}\" for i in range(1, 5)]\n",
    "df = pd.read_table(\"data/T6_17_FISH.DAT\", header=None, sep=\"\\s+\", names=cols)"
   ]
  },
  {
   "cell_type": "code",
   "execution_count": 8,
   "metadata": {},
   "outputs": [
    {
     "data": {
      "text/html": [
       "<div>\n",
       "<style scoped>\n",
       "    .dataframe tbody tr th:only-of-type {\n",
       "        vertical-align: middle;\n",
       "    }\n",
       "\n",
       "    .dataframe tbody tr th {\n",
       "        vertical-align: top;\n",
       "    }\n",
       "\n",
       "    .dataframe thead th {\n",
       "        text-align: right;\n",
       "    }\n",
       "</style>\n",
       "<table border=\"1\" class=\"dataframe\">\n",
       "  <thead>\n",
       "    <tr style=\"text-align: right;\">\n",
       "      <th></th>\n",
       "      <th>method</th>\n",
       "      <th>y1</th>\n",
       "      <th>y2</th>\n",
       "      <th>y3</th>\n",
       "      <th>y4</th>\n",
       "    </tr>\n",
       "  </thead>\n",
       "  <tbody>\n",
       "    <tr>\n",
       "      <th>0</th>\n",
       "      <td>1</td>\n",
       "      <td>5.4</td>\n",
       "      <td>6.0</td>\n",
       "      <td>6.3</td>\n",
       "      <td>6.7</td>\n",
       "    </tr>\n",
       "    <tr>\n",
       "      <th>1</th>\n",
       "      <td>1</td>\n",
       "      <td>5.2</td>\n",
       "      <td>6.5</td>\n",
       "      <td>6.0</td>\n",
       "      <td>5.8</td>\n",
       "    </tr>\n",
       "    <tr>\n",
       "      <th>2</th>\n",
       "      <td>1</td>\n",
       "      <td>6.1</td>\n",
       "      <td>5.9</td>\n",
       "      <td>6.0</td>\n",
       "      <td>7.0</td>\n",
       "    </tr>\n",
       "    <tr>\n",
       "      <th>3</th>\n",
       "      <td>1</td>\n",
       "      <td>4.8</td>\n",
       "      <td>5.0</td>\n",
       "      <td>4.9</td>\n",
       "      <td>5.0</td>\n",
       "    </tr>\n",
       "    <tr>\n",
       "      <th>4</th>\n",
       "      <td>1</td>\n",
       "      <td>5.0</td>\n",
       "      <td>5.7</td>\n",
       "      <td>5.0</td>\n",
       "      <td>6.5</td>\n",
       "    </tr>\n",
       "  </tbody>\n",
       "</table>\n",
       "</div>"
      ],
      "text/plain": [
       "   method   y1   y2   y3   y4\n",
       "0       1  5.4  6.0  6.3  6.7\n",
       "1       1  5.2  6.5  6.0  5.8\n",
       "2       1  6.1  5.9  6.0  7.0\n",
       "3       1  4.8  5.0  4.9  5.0\n",
       "4       1  5.0  5.7  5.0  6.5"
      ]
     },
     "execution_count": 8,
     "metadata": {},
     "output_type": "execute_result"
    }
   ],
   "source": [
    "df.head()"
   ]
  },
  {
   "cell_type": "code",
   "execution_count": 9,
   "metadata": {},
   "outputs": [],
   "source": [
    "df1 = df[df.method==1].drop(columns='method')\n",
    "df2 = df[df.method==2].drop(columns='method')\n",
    "df3 = df[df.method==3].drop(columns='method')"
   ]
  },
  {
   "cell_type": "code",
   "execution_count": 23,
   "metadata": {},
   "outputs": [
    {
     "name": "stdout",
     "output_type": "stream",
     "text": [
      "                  Multivariate linear model\n",
      "==============================================================\n",
      "                                                              \n",
      "--------------------------------------------------------------\n",
      "       Intercept         Value  Num DF  Den DF F Value  Pr > F\n",
      "--------------------------------------------------------------\n",
      "          Wilks' lambda  0.0384 4.0000 31.0000 193.8854 0.0000\n",
      "         Pillai's trace  0.9616 4.0000 31.0000 193.8854 0.0000\n",
      " Hotelling-Lawley trace 25.0175 4.0000 31.0000 193.8854 0.0000\n",
      "    Roy's greatest root 25.0175 4.0000 31.0000 193.8854 0.0000\n",
      "--------------------------------------------------------------\n",
      "                                                              \n",
      "--------------------------------------------------------------\n",
      "           method         Value  Num DF  Den DF F Value Pr > F\n",
      "--------------------------------------------------------------\n",
      "            Wilks' lambda 0.2838 4.0000 31.0000 19.5609 0.0000\n",
      "           Pillai's trace 0.7162 4.0000 31.0000 19.5609 0.0000\n",
      "   Hotelling-Lawley trace 2.5240 4.0000 31.0000 19.5609 0.0000\n",
      "      Roy's greatest root 2.5240 4.0000 31.0000 19.5609 0.0000\n",
      "==============================================================\n",
      "\n"
     ]
    }
   ],
   "source": [
    "maov = sm.multivariate.MANOVA.from_formula(formula=\"y1+y2+y3+y4~method\", data=df)\n",
    "print(maov.mv_test())"
   ]
  },
  {
   "attachments": {},
   "cell_type": "markdown",
   "metadata": {},
   "source": [
    "p-values are less than 0.05, so $H_0$ should be rejected"
   ]
  },
  {
   "cell_type": "code",
   "execution_count": 33,
   "metadata": {},
   "outputs": [],
   "source": [
    "# test manova output\n",
    "cols = [f\"V{i}\" for i in range(1, 6)]\n",
    "df = pd.read_table(\"data/T6_2_ROOT.DAT\", header=None, sep=\"\\s+\", names=cols)"
   ]
  },
  {
   "cell_type": "code",
   "execution_count": 34,
   "metadata": {},
   "outputs": [],
   "source": [
    "model = sm.MANOVA.from_formula(\"V2+V3+V4+V5~V1\", data=df)"
   ]
  },
  {
   "cell_type": "code",
   "execution_count": 35,
   "metadata": {},
   "outputs": [
    {
     "name": "stdout",
     "output_type": "stream",
     "text": [
      "                  Multivariate linear model\n",
      "==============================================================\n",
      "                                                              \n",
      "--------------------------------------------------------------\n",
      "       Intercept         Value  Num DF  Den DF F Value  Pr > F\n",
      "--------------------------------------------------------------\n",
      "          Wilks' lambda  0.0112 4.0000 43.0000 950.7953 0.0000\n",
      "         Pillai's trace  0.9888 4.0000 43.0000 950.7953 0.0000\n",
      " Hotelling-Lawley trace 88.4461 4.0000 43.0000 950.7953 0.0000\n",
      "    Roy's greatest root 88.4461 4.0000 43.0000 950.7953 0.0000\n",
      "--------------------------------------------------------------\n",
      "                                                              \n",
      "--------------------------------------------------------------\n",
      "             V1           Value  Num DF  Den DF F Value Pr > F\n",
      "--------------------------------------------------------------\n",
      "            Wilks' lambda 0.7642 4.0000 43.0000  3.3162 0.0187\n",
      "           Pillai's trace 0.2358 4.0000 43.0000  3.3162 0.0187\n",
      "   Hotelling-Lawley trace 0.3085 4.0000 43.0000  3.3162 0.0187\n",
      "      Roy's greatest root 0.3085 4.0000 43.0000  3.3162 0.0187\n",
      "==============================================================\n",
      "\n"
     ]
    }
   ],
   "source": [
    "print(model.mv_test())"
   ]
  },
  {
   "cell_type": "code",
   "execution_count": null,
   "metadata": {},
   "outputs": [],
   "source": []
  }
 ],
 "metadata": {
  "kernelspec": {
   "display_name": "Python 3",
   "language": "python",
   "name": "python3"
  },
  "language_info": {
   "codemirror_mode": {
    "name": "ipython",
    "version": 3
   },
   "file_extension": ".py",
   "mimetype": "text/x-python",
   "name": "python",
   "nbconvert_exporter": "python",
   "pygments_lexer": "ipython3",
   "version": "3.10.9"
  },
  "orig_nbformat": 4
 },
 "nbformat": 4,
 "nbformat_minor": 2
}
