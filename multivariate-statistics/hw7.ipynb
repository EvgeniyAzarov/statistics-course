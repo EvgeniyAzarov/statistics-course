{
 "cells": [
  {
   "cell_type": "code",
   "execution_count": 252,
   "metadata": {},
   "outputs": [],
   "source": [
    "import numpy as np\n",
    "import scipy as sci\n",
    "import pandas as pd\n",
    "import matplotlib.pyplot as plt\n",
    "from sklearn.metrics import classification_report, confusion_matrix"
   ]
  },
  {
   "cell_type": "code",
   "execution_count": 253,
   "metadata": {},
   "outputs": [],
   "source": [
    "cols = [\"rootstock\", \"girth4\", \"ext4\", \"girth15\", \"weight15\"]\n",
    "df = pd.read_table(\"data/T6_2_ROOT.DAT\", header=None, sep=\"\\s+\", names=cols)"
   ]
  },
  {
   "cell_type": "code",
   "execution_count": 254,
   "metadata": {},
   "outputs": [
    {
     "data": {
      "text/html": [
       "<div>\n",
       "<style scoped>\n",
       "    .dataframe tbody tr th:only-of-type {\n",
       "        vertical-align: middle;\n",
       "    }\n",
       "\n",
       "    .dataframe tbody tr th {\n",
       "        vertical-align: top;\n",
       "    }\n",
       "\n",
       "    .dataframe thead th {\n",
       "        text-align: right;\n",
       "    }\n",
       "</style>\n",
       "<table border=\"1\" class=\"dataframe\">\n",
       "  <thead>\n",
       "    <tr style=\"text-align: right;\">\n",
       "      <th></th>\n",
       "      <th>rootstock</th>\n",
       "      <th>girth4</th>\n",
       "      <th>ext4</th>\n",
       "      <th>girth15</th>\n",
       "      <th>weight15</th>\n",
       "    </tr>\n",
       "  </thead>\n",
       "  <tbody>\n",
       "    <tr>\n",
       "      <th>0</th>\n",
       "      <td>1</td>\n",
       "      <td>1.11</td>\n",
       "      <td>2.569</td>\n",
       "      <td>3.58</td>\n",
       "      <td>0.760</td>\n",
       "    </tr>\n",
       "    <tr>\n",
       "      <th>1</th>\n",
       "      <td>1</td>\n",
       "      <td>1.19</td>\n",
       "      <td>2.928</td>\n",
       "      <td>3.75</td>\n",
       "      <td>0.821</td>\n",
       "    </tr>\n",
       "    <tr>\n",
       "      <th>2</th>\n",
       "      <td>1</td>\n",
       "      <td>1.09</td>\n",
       "      <td>2.865</td>\n",
       "      <td>3.93</td>\n",
       "      <td>0.928</td>\n",
       "    </tr>\n",
       "    <tr>\n",
       "      <th>3</th>\n",
       "      <td>1</td>\n",
       "      <td>1.25</td>\n",
       "      <td>3.844</td>\n",
       "      <td>3.94</td>\n",
       "      <td>1.009</td>\n",
       "    </tr>\n",
       "    <tr>\n",
       "      <th>4</th>\n",
       "      <td>1</td>\n",
       "      <td>1.11</td>\n",
       "      <td>3.027</td>\n",
       "      <td>3.60</td>\n",
       "      <td>0.766</td>\n",
       "    </tr>\n",
       "  </tbody>\n",
       "</table>\n",
       "</div>"
      ],
      "text/plain": [
       "   rootstock  girth4   ext4  girth15  weight15\n",
       "0          1    1.11  2.569     3.58     0.760\n",
       "1          1    1.19  2.928     3.75     0.821\n",
       "2          1    1.09  2.865     3.93     0.928\n",
       "3          1    1.25  3.844     3.94     1.009\n",
       "4          1    1.11  3.027     3.60     0.766"
      ]
     },
     "execution_count": 254,
     "metadata": {},
     "output_type": "execute_result"
    }
   ],
   "source": [
    "df.head()"
   ]
  },
  {
   "cell_type": "code",
   "execution_count": 255,
   "metadata": {},
   "outputs": [],
   "source": [
    "k = len(set(df.rootstock))\n",
    "N = df.shape[0]\n",
    "ni = N // k"
   ]
  },
  {
   "cell_type": "code",
   "execution_count": 256,
   "metadata": {},
   "outputs": [
    {
     "data": {
      "text/html": [
       "<div>\n",
       "<style scoped>\n",
       "    .dataframe tbody tr th:only-of-type {\n",
       "        vertical-align: middle;\n",
       "    }\n",
       "\n",
       "    .dataframe tbody tr th {\n",
       "        vertical-align: top;\n",
       "    }\n",
       "\n",
       "    .dataframe thead th {\n",
       "        text-align: right;\n",
       "    }\n",
       "</style>\n",
       "<table border=\"1\" class=\"dataframe\">\n",
       "  <thead>\n",
       "    <tr style=\"text-align: right;\">\n",
       "      <th></th>\n",
       "      <th></th>\n",
       "      <th>girth4</th>\n",
       "      <th>ext4</th>\n",
       "      <th>girth15</th>\n",
       "      <th>weight15</th>\n",
       "    </tr>\n",
       "    <tr>\n",
       "      <th>rootstock</th>\n",
       "      <th></th>\n",
       "      <th></th>\n",
       "      <th></th>\n",
       "      <th></th>\n",
       "      <th></th>\n",
       "    </tr>\n",
       "  </thead>\n",
       "  <tbody>\n",
       "    <tr>\n",
       "      <th rowspan=\"4\" valign=\"top\">1</th>\n",
       "      <th>girth4</th>\n",
       "      <td>0.003393</td>\n",
       "      <td>0.020272</td>\n",
       "      <td>0.003739</td>\n",
       "      <td>0.001779</td>\n",
       "    </tr>\n",
       "    <tr>\n",
       "      <th>ext4</th>\n",
       "      <td>0.020272</td>\n",
       "      <td>0.200691</td>\n",
       "      <td>0.058043</td>\n",
       "      <td>0.045790</td>\n",
       "    </tr>\n",
       "    <tr>\n",
       "      <th>girth15</th>\n",
       "      <td>0.003739</td>\n",
       "      <td>0.058043</td>\n",
       "      <td>0.035184</td>\n",
       "      <td>0.028483</td>\n",
       "    </tr>\n",
       "    <tr>\n",
       "      <th>weight15</th>\n",
       "      <td>0.001779</td>\n",
       "      <td>0.045790</td>\n",
       "      <td>0.028483</td>\n",
       "      <td>0.028293</td>\n",
       "    </tr>\n",
       "    <tr>\n",
       "      <th rowspan=\"4\" valign=\"top\">2</th>\n",
       "      <th>girth4</th>\n",
       "      <td>0.003421</td>\n",
       "      <td>0.025773</td>\n",
       "      <td>0.008843</td>\n",
       "      <td>0.003233</td>\n",
       "    </tr>\n",
       "    <tr>\n",
       "      <th>ext4</th>\n",
       "      <td>0.025773</td>\n",
       "      <td>0.304786</td>\n",
       "      <td>0.149834</td>\n",
       "      <td>0.083152</td>\n",
       "    </tr>\n",
       "    <tr>\n",
       "      <th>girth15</th>\n",
       "      <td>0.008843</td>\n",
       "      <td>0.149834</td>\n",
       "      <td>0.115743</td>\n",
       "      <td>0.071106</td>\n",
       "    </tr>\n",
       "    <tr>\n",
       "      <th>weight15</th>\n",
       "      <td>0.003233</td>\n",
       "      <td>0.083152</td>\n",
       "      <td>0.071106</td>\n",
       "      <td>0.056464</td>\n",
       "    </tr>\n",
       "    <tr>\n",
       "      <th rowspan=\"4\" valign=\"top\">3</th>\n",
       "      <th>girth4</th>\n",
       "      <td>0.006850</td>\n",
       "      <td>0.031418</td>\n",
       "      <td>0.008700</td>\n",
       "      <td>0.006002</td>\n",
       "    </tr>\n",
       "    <tr>\n",
       "      <th>ext4</th>\n",
       "      <td>0.031418</td>\n",
       "      <td>0.154296</td>\n",
       "      <td>0.047993</td>\n",
       "      <td>0.032861</td>\n",
       "    </tr>\n",
       "    <tr>\n",
       "      <th>girth15</th>\n",
       "      <td>0.008700</td>\n",
       "      <td>0.047993</td>\n",
       "      <td>0.095086</td>\n",
       "      <td>0.067995</td>\n",
       "    </tr>\n",
       "    <tr>\n",
       "      <th>weight15</th>\n",
       "      <td>0.006002</td>\n",
       "      <td>0.032861</td>\n",
       "      <td>0.067995</td>\n",
       "      <td>0.053393</td>\n",
       "    </tr>\n",
       "    <tr>\n",
       "      <th rowspan=\"4\" valign=\"top\">4</th>\n",
       "      <th>girth4</th>\n",
       "      <td>0.007364</td>\n",
       "      <td>0.031384</td>\n",
       "      <td>0.014346</td>\n",
       "      <td>0.004366</td>\n",
       "    </tr>\n",
       "    <tr>\n",
       "      <th>ext4</th>\n",
       "      <td>0.031384</td>\n",
       "      <td>0.262156</td>\n",
       "      <td>0.089652</td>\n",
       "      <td>0.039420</td>\n",
       "    </tr>\n",
       "    <tr>\n",
       "      <th>girth15</th>\n",
       "      <td>0.014346</td>\n",
       "      <td>0.089652</td>\n",
       "      <td>0.083427</td>\n",
       "      <td>0.046557</td>\n",
       "    </tr>\n",
       "    <tr>\n",
       "      <th>weight15</th>\n",
       "      <td>0.004366</td>\n",
       "      <td>0.039420</td>\n",
       "      <td>0.046557</td>\n",
       "      <td>0.030628</td>\n",
       "    </tr>\n",
       "    <tr>\n",
       "      <th rowspan=\"4\" valign=\"top\">5</th>\n",
       "      <th>girth4</th>\n",
       "      <td>0.009914</td>\n",
       "      <td>0.057133</td>\n",
       "      <td>0.021943</td>\n",
       "      <td>0.009014</td>\n",
       "    </tr>\n",
       "    <tr>\n",
       "      <th>ext4</th>\n",
       "      <td>0.057133</td>\n",
       "      <td>0.368078</td>\n",
       "      <td>0.154582</td>\n",
       "      <td>0.062531</td>\n",
       "    </tr>\n",
       "    <tr>\n",
       "      <th>girth15</th>\n",
       "      <td>0.021943</td>\n",
       "      <td>0.154582</td>\n",
       "      <td>0.175707</td>\n",
       "      <td>0.097654</td>\n",
       "    </tr>\n",
       "    <tr>\n",
       "      <th>weight15</th>\n",
       "      <td>0.009014</td>\n",
       "      <td>0.062531</td>\n",
       "      <td>0.097654</td>\n",
       "      <td>0.058549</td>\n",
       "    </tr>\n",
       "    <tr>\n",
       "      <th rowspan=\"4\" valign=\"top\">6</th>\n",
       "      <th>girth4</th>\n",
       "      <td>0.014770</td>\n",
       "      <td>0.076387</td>\n",
       "      <td>0.021584</td>\n",
       "      <td>0.006626</td>\n",
       "    </tr>\n",
       "    <tr>\n",
       "      <th>ext4</th>\n",
       "      <td>0.076387</td>\n",
       "      <td>0.444677</td>\n",
       "      <td>0.123270</td>\n",
       "      <td>0.037706</td>\n",
       "    </tr>\n",
       "    <tr>\n",
       "      <th>girth15</th>\n",
       "      <td>0.021584</td>\n",
       "      <td>0.123270</td>\n",
       "      <td>0.107827</td>\n",
       "      <td>0.042727</td>\n",
       "    </tr>\n",
       "    <tr>\n",
       "      <th>weight15</th>\n",
       "      <td>0.006626</td>\n",
       "      <td>0.037706</td>\n",
       "      <td>0.042727</td>\n",
       "      <td>0.018749</td>\n",
       "    </tr>\n",
       "  </tbody>\n",
       "</table>\n",
       "</div>"
      ],
      "text/plain": [
       "                      girth4      ext4   girth15  weight15\n",
       "rootstock                                                 \n",
       "1         girth4    0.003393  0.020272  0.003739  0.001779\n",
       "          ext4      0.020272  0.200691  0.058043  0.045790\n",
       "          girth15   0.003739  0.058043  0.035184  0.028483\n",
       "          weight15  0.001779  0.045790  0.028483  0.028293\n",
       "2         girth4    0.003421  0.025773  0.008843  0.003233\n",
       "          ext4      0.025773  0.304786  0.149834  0.083152\n",
       "          girth15   0.008843  0.149834  0.115743  0.071106\n",
       "          weight15  0.003233  0.083152  0.071106  0.056464\n",
       "3         girth4    0.006850  0.031418  0.008700  0.006002\n",
       "          ext4      0.031418  0.154296  0.047993  0.032861\n",
       "          girth15   0.008700  0.047993  0.095086  0.067995\n",
       "          weight15  0.006002  0.032861  0.067995  0.053393\n",
       "4         girth4    0.007364  0.031384  0.014346  0.004366\n",
       "          ext4      0.031384  0.262156  0.089652  0.039420\n",
       "          girth15   0.014346  0.089652  0.083427  0.046557\n",
       "          weight15  0.004366  0.039420  0.046557  0.030628\n",
       "5         girth4    0.009914  0.057133  0.021943  0.009014\n",
       "          ext4      0.057133  0.368078  0.154582  0.062531\n",
       "          girth15   0.021943  0.154582  0.175707  0.097654\n",
       "          weight15  0.009014  0.062531  0.097654  0.058549\n",
       "6         girth4    0.014770  0.076387  0.021584  0.006626\n",
       "          ext4      0.076387  0.444677  0.123270  0.037706\n",
       "          girth15   0.021584  0.123270  0.107827  0.042727\n",
       "          weight15  0.006626  0.037706  0.042727  0.018749"
      ]
     },
     "execution_count": 256,
     "metadata": {},
     "output_type": "execute_result"
    }
   ],
   "source": [
    "covs_df = df.groupby(by=\"rootstock\").cov()\n",
    "covs_df"
   ]
  },
  {
   "cell_type": "code",
   "execution_count": 257,
   "metadata": {},
   "outputs": [],
   "source": [
    "covs = [covs_df.xs(i+1) for i in range(k)]"
   ]
  },
  {
   "cell_type": "code",
   "execution_count": 258,
   "metadata": {},
   "outputs": [],
   "source": [
    "Spl = 0\n",
    "for i in range(k):\n",
    "    Spl += covs[i] * ni\n",
    "Spl /= (N - k)"
   ]
  },
  {
   "cell_type": "code",
   "execution_count": 259,
   "metadata": {},
   "outputs": [
    {
     "data": {
      "text/html": [
       "<div>\n",
       "<style scoped>\n",
       "    .dataframe tbody tr th:only-of-type {\n",
       "        vertical-align: middle;\n",
       "    }\n",
       "\n",
       "    .dataframe tbody tr th {\n",
       "        vertical-align: top;\n",
       "    }\n",
       "\n",
       "    .dataframe thead th {\n",
       "        text-align: right;\n",
       "    }\n",
       "</style>\n",
       "<table border=\"1\" class=\"dataframe\">\n",
       "  <thead>\n",
       "    <tr style=\"text-align: right;\">\n",
       "      <th></th>\n",
       "      <th>girth4</th>\n",
       "      <th>ext4</th>\n",
       "      <th>girth15</th>\n",
       "      <th>weight15</th>\n",
       "    </tr>\n",
       "  </thead>\n",
       "  <tbody>\n",
       "    <tr>\n",
       "      <th>girth4</th>\n",
       "      <td>0.008707</td>\n",
       "      <td>0.046165</td>\n",
       "      <td>0.015077</td>\n",
       "      <td>0.005909</td>\n",
       "    </tr>\n",
       "    <tr>\n",
       "      <th>ext4</th>\n",
       "      <td>0.046165</td>\n",
       "      <td>0.330416</td>\n",
       "      <td>0.118738</td>\n",
       "      <td>0.057421</td>\n",
       "    </tr>\n",
       "    <tr>\n",
       "      <th>girth15</th>\n",
       "      <td>0.015077</td>\n",
       "      <td>0.118738</td>\n",
       "      <td>0.116757</td>\n",
       "      <td>0.067528</td>\n",
       "    </tr>\n",
       "    <tr>\n",
       "      <th>weight15</th>\n",
       "      <td>0.005909</td>\n",
       "      <td>0.057421</td>\n",
       "      <td>0.067528</td>\n",
       "      <td>0.046871</td>\n",
       "    </tr>\n",
       "  </tbody>\n",
       "</table>\n",
       "</div>"
      ],
      "text/plain": [
       "            girth4      ext4   girth15  weight15\n",
       "girth4    0.008707  0.046165  0.015077  0.005909\n",
       "ext4      0.046165  0.330416  0.118738  0.057421\n",
       "girth15   0.015077  0.118738  0.116757  0.067528\n",
       "weight15  0.005909  0.057421  0.067528  0.046871"
      ]
     },
     "execution_count": 259,
     "metadata": {},
     "output_type": "execute_result"
    }
   ],
   "source": [
    "Spl"
   ]
  },
  {
   "cell_type": "code",
   "execution_count": 260,
   "metadata": {},
   "outputs": [
    {
     "data": {
      "text/plain": [
       "array([[490.04152282, -67.84396717, -39.74757884,  78.60408106],\n",
       "       [-67.84396717,  14.56167035,  -4.0582595 ,  -3.43994539],\n",
       "       [-39.74757884,  -4.0582595 ,  72.27416788, -94.14381807],\n",
       "       [ 78.60408106,  -3.43994539, -94.14381807, 151.27418284]])"
      ]
     },
     "execution_count": 260,
     "metadata": {},
     "output_type": "execute_result"
    }
   ],
   "source": [
    "Spl_inv = np.linalg.inv(Spl)\n",
    "Spl_inv"
   ]
  },
  {
   "attachments": {},
   "cell_type": "markdown",
   "metadata": {},
   "source": [
    "## A. Linear classification functions "
   ]
  },
  {
   "cell_type": "code",
   "execution_count": 261,
   "metadata": {},
   "outputs": [
    {
     "data": {
      "text/plain": [
       "array([[1.1375  , 2.977125, 3.73875 , 0.871125],\n",
       "       [1.1575  , 3.109125, 4.515   , 1.2805  ],\n",
       "       [1.1075  , 2.81525 , 4.455   , 1.391375],\n",
       "       [1.0975  , 2.87975 , 3.90625 , 1.039   ],\n",
       "       [1.08    , 2.55725 , 4.3125  , 1.181   ],\n",
       "       [1.03625 , 2.214625, 3.59625 , 0.735   ]])"
      ]
     },
     "execution_count": 261,
     "metadata": {},
     "output_type": "execute_result"
    }
   ],
   "source": [
    "yhat = df.groupby(\"rootstock\").mean().to_numpy()\n",
    "yhat"
   ]
  },
  {
   "cell_type": "code",
   "execution_count": 262,
   "metadata": {},
   "outputs": [],
   "source": [
    "def Li(i, y):\n",
    "    return yhat[i].T @ Spl_inv @ y - 0.5 * yhat[i].T @ Spl_inv @ yhat[i]"
   ]
  },
  {
   "attachments": {},
   "cell_type": "markdown",
   "metadata": {},
   "source": [
    "## B. Linear classification"
   ]
  },
  {
   "cell_type": "code",
   "execution_count": 263,
   "metadata": {},
   "outputs": [],
   "source": [
    "def L(y):\n",
    "    return np.array([Li(i, y) for i in range(k)])\n",
    "\n",
    "def classify_linear(y):\n",
    "    return np.argmax(L(y)) + 1"
   ]
  },
  {
   "cell_type": "code",
   "execution_count": 264,
   "metadata": {},
   "outputs": [],
   "source": [
    "data = df.iloc[:, 1:]"
   ]
  },
  {
   "cell_type": "code",
   "execution_count": 265,
   "metadata": {},
   "outputs": [],
   "source": [
    "pred = data.apply(classify_linear, axis=1)"
   ]
  },
  {
   "cell_type": "code",
   "execution_count": 267,
   "metadata": {},
   "outputs": [
    {
     "data": {
      "text/plain": [
       "array([[5, 0, 0, 1, 0, 2],\n",
       "       [0, 3, 2, 1, 2, 0],\n",
       "       [0, 0, 6, 1, 1, 0],\n",
       "       [3, 0, 1, 4, 0, 0],\n",
       "       [0, 3, 1, 0, 3, 1],\n",
       "       [2, 0, 0, 0, 2, 4]])"
      ]
     },
     "execution_count": 267,
     "metadata": {},
     "output_type": "execute_result"
    }
   ],
   "source": [
    "confusion_matrix(df.rootstock, pred)"
   ]
  },
  {
   "cell_type": "code",
   "execution_count": 268,
   "metadata": {},
   "outputs": [
    {
     "name": "stdout",
     "output_type": "stream",
     "text": [
      "              precision    recall  f1-score   support\n",
      "\n",
      "           1       0.50      0.62      0.56         8\n",
      "           2       0.50      0.38      0.43         8\n",
      "           3       0.60      0.75      0.67         8\n",
      "           4       0.57      0.50      0.53         8\n",
      "           5       0.38      0.38      0.38         8\n",
      "           6       0.57      0.50      0.53         8\n",
      "\n",
      "    accuracy                           0.52        48\n",
      "   macro avg       0.52      0.52      0.52        48\n",
      "weighted avg       0.52      0.52      0.52        48\n",
      "\n"
     ]
    }
   ],
   "source": [
    "print(classification_report(df.rootstock, pred))"
   ]
  },
  {
   "attachments": {},
   "cell_type": "markdown",
   "metadata": {},
   "source": [
    "## C. "
   ]
  },
  {
   "cell_type": "code",
   "execution_count": 269,
   "metadata": {},
   "outputs": [],
   "source": [
    "def Qi(i, y):\n",
    "    return -0.5 * np.log(np.linalg.det(covs[i])) - 0.5 * (y - yhat[i]).T @ np.linalg.inv(covs[i]) @ (y - yhat[i])"
   ]
  },
  {
   "cell_type": "code",
   "execution_count": 270,
   "metadata": {},
   "outputs": [],
   "source": [
    "def Q(y):\n",
    "    return np.array([Qi(i, y) for i in range(k)])\n",
    "\n",
    "def classify_quadratic(y):\n",
    "    return np.argmax(Q(y)) + 1"
   ]
  },
  {
   "cell_type": "code",
   "execution_count": 271,
   "metadata": {},
   "outputs": [],
   "source": [
    "data = df.iloc[:, 1:]"
   ]
  },
  {
   "cell_type": "code",
   "execution_count": 272,
   "metadata": {},
   "outputs": [],
   "source": [
    "pred = data.apply(classify_quadratic, axis=1)"
   ]
  },
  {
   "cell_type": "code",
   "execution_count": 273,
   "metadata": {},
   "outputs": [
    {
     "data": {
      "text/plain": [
       "array([[8, 0, 0, 0, 0, 0],\n",
       "       [0, 7, 0, 1, 0, 0],\n",
       "       [1, 0, 6, 0, 1, 0],\n",
       "       [0, 0, 1, 7, 0, 0],\n",
       "       [0, 3, 0, 0, 4, 1],\n",
       "       [2, 0, 0, 0, 1, 5]])"
      ]
     },
     "execution_count": 273,
     "metadata": {},
     "output_type": "execute_result"
    }
   ],
   "source": [
    "confusion_matrix(df.rootstock, pred)"
   ]
  },
  {
   "cell_type": "code",
   "execution_count": 274,
   "metadata": {},
   "outputs": [
    {
     "name": "stdout",
     "output_type": "stream",
     "text": [
      "              precision    recall  f1-score   support\n",
      "\n",
      "           1       0.73      1.00      0.84         8\n",
      "           2       0.70      0.88      0.78         8\n",
      "           3       0.86      0.75      0.80         8\n",
      "           4       0.88      0.88      0.88         8\n",
      "           5       0.67      0.50      0.57         8\n",
      "           6       0.83      0.62      0.71         8\n",
      "\n",
      "    accuracy                           0.77        48\n",
      "   macro avg       0.78      0.77      0.76        48\n",
      "weighted avg       0.78      0.77      0.76        48\n",
      "\n"
     ]
    }
   ],
   "source": [
    "print(classification_report(df.rootstock, pred))"
   ]
  },
  {
   "attachments": {},
   "cell_type": "markdown",
   "metadata": {},
   "source": [
    "## D. Nearest-neighbour method"
   ]
  },
  {
   "cell_type": "code",
   "execution_count": 275,
   "metadata": {},
   "outputs": [],
   "source": [
    "from sklearn.neighbors import KNeighborsClassifier"
   ]
  },
  {
   "cell_type": "code",
   "execution_count": 276,
   "metadata": {},
   "outputs": [],
   "source": [
    "def dist(yi, yj):\n",
    "    return (yi - yj).T @ Spl_inv @ (yi - yj)"
   ]
  },
  {
   "cell_type": "code",
   "execution_count": 293,
   "metadata": {},
   "outputs": [],
   "source": [
    "classifier = KNeighborsClassifier(\n",
    "    n_neighbors=3,\n",
    "    metric=dist\n",
    ")"
   ]
  },
  {
   "cell_type": "code",
   "execution_count": 294,
   "metadata": {},
   "outputs": [
    {
     "data": {
      "text/plain": [
       "KNeighborsClassifier(metric=<function dist at 0x7f14b0bd9510>, n_neighbors=3)"
      ]
     },
     "execution_count": 294,
     "metadata": {},
     "output_type": "execute_result"
    }
   ],
   "source": [
    "classifier.fit(df.iloc[:, 1:], df.iloc[:, 0])"
   ]
  },
  {
   "cell_type": "code",
   "execution_count": 295,
   "metadata": {},
   "outputs": [
    {
     "name": "stderr",
     "output_type": "stream",
     "text": [
      "/home/evgeniy/.local/lib/python3.10/site-packages/sklearn/neighbors/_classification.py:228: FutureWarning: Unlike other reduction functions (e.g. `skew`, `kurtosis`), the default behavior of `mode` typically preserves the axis it acts along. In SciPy 1.11.0, this behavior will change: the default value of `keepdims` will become False, the `axis` over which the statistic is taken will be eliminated, and the value None will no longer be accepted. Set `keepdims` to True or False to avoid this warning.\n",
      "  mode, _ = stats.mode(_y[neigh_ind, k], axis=1)\n"
     ]
    }
   ],
   "source": [
    "pred = classifier.predict(df.iloc[:, 1:])"
   ]
  },
  {
   "cell_type": "code",
   "execution_count": 296,
   "metadata": {},
   "outputs": [
    {
     "data": {
      "text/plain": [
       "array([[6, 0, 0, 2, 0, 0],\n",
       "       [0, 7, 0, 0, 1, 0],\n",
       "       [1, 0, 6, 0, 1, 0],\n",
       "       [3, 0, 0, 5, 0, 0],\n",
       "       [0, 1, 0, 0, 6, 1],\n",
       "       [2, 0, 0, 1, 0, 5]])"
      ]
     },
     "execution_count": 296,
     "metadata": {},
     "output_type": "execute_result"
    }
   ],
   "source": [
    "confusion_matrix(df.rootstock, pred)"
   ]
  },
  {
   "cell_type": "code",
   "execution_count": 297,
   "metadata": {},
   "outputs": [
    {
     "name": "stdout",
     "output_type": "stream",
     "text": [
      "              precision    recall  f1-score   support\n",
      "\n",
      "           1       0.50      0.75      0.60         8\n",
      "           2       0.88      0.88      0.88         8\n",
      "           3       1.00      0.75      0.86         8\n",
      "           4       0.62      0.62      0.62         8\n",
      "           5       0.75      0.75      0.75         8\n",
      "           6       0.83      0.62      0.71         8\n",
      "\n",
      "    accuracy                           0.73        48\n",
      "   macro avg       0.76      0.73      0.74        48\n",
      "weighted avg       0.76      0.73      0.74        48\n",
      "\n"
     ]
    }
   ],
   "source": [
    "print(classification_report(df.rootstock, pred))"
   ]
  },
  {
   "attachments": {},
   "cell_type": "markdown",
   "metadata": {},
   "source": [
    "## E. Kernel density estimator classification"
   ]
  },
  {
   "cell_type": "code",
   "execution_count": 298,
   "metadata": {},
   "outputs": [],
   "source": [
    "h = 1\n",
    "p = 4\n",
    "n = df.shape[0]"
   ]
  },
  {
   "cell_type": "code",
   "execution_count": 313,
   "metadata": {},
   "outputs": [],
   "source": [
    "def fi(i, y):\n",
    "    res = 0\n",
    "    group = df[df.rootstock == i+1].to_numpy()[:, 1:]\n",
    "\n",
    "    for j in range(ni):\n",
    "        res += np.exp(-(y - group[j]).T @ Spl_inv @ (y-group[j]) / (2 * h ** 2))\n",
    "    \n",
    "    res /= n * h**p * np.linalg.det(Spl) ** 0.5 \n",
    "    return res"
   ]
  },
  {
   "cell_type": "code",
   "execution_count": 322,
   "metadata": {},
   "outputs": [],
   "source": [
    "def f(y):\n",
    "    return np.array([fi(i, y) for i in range(k)])\n",
    "\n",
    "def classify_kde(y):\n",
    "    return np.argmax(f(y)) + 1"
   ]
  },
  {
   "cell_type": "code",
   "execution_count": 323,
   "metadata": {},
   "outputs": [],
   "source": [
    "data = df.iloc[:, 1:]"
   ]
  },
  {
   "cell_type": "code",
   "execution_count": 324,
   "metadata": {},
   "outputs": [],
   "source": [
    "pred = data.apply(classify_kde, axis=1)"
   ]
  },
  {
   "cell_type": "code",
   "execution_count": 325,
   "metadata": {},
   "outputs": [
    {
     "data": {
      "text/plain": [
       "array([[8, 0, 0, 0, 0, 0],\n",
       "       [0, 7, 1, 0, 0, 0],\n",
       "       [1, 0, 6, 0, 1, 0],\n",
       "       [1, 0, 0, 7, 0, 0],\n",
       "       [0, 1, 0, 0, 6, 1],\n",
       "       [3, 0, 0, 0, 0, 5]])"
      ]
     },
     "execution_count": 325,
     "metadata": {},
     "output_type": "execute_result"
    }
   ],
   "source": [
    "confusion_matrix(df.rootstock, pred)"
   ]
  },
  {
   "cell_type": "code",
   "execution_count": 326,
   "metadata": {},
   "outputs": [
    {
     "name": "stdout",
     "output_type": "stream",
     "text": [
      "              precision    recall  f1-score   support\n",
      "\n",
      "           1       0.62      1.00      0.76         8\n",
      "           2       0.88      0.88      0.88         8\n",
      "           3       0.86      0.75      0.80         8\n",
      "           4       1.00      0.88      0.93         8\n",
      "           5       0.86      0.75      0.80         8\n",
      "           6       0.83      0.62      0.71         8\n",
      "\n",
      "    accuracy                           0.81        48\n",
      "   macro avg       0.84      0.81      0.81        48\n",
      "weighted avg       0.84      0.81      0.81        48\n",
      "\n"
     ]
    }
   ],
   "source": [
    "print(classification_report(df.rootstock, pred))"
   ]
  },
  {
   "cell_type": "code",
   "execution_count": null,
   "metadata": {},
   "outputs": [],
   "source": []
  }
 ],
 "metadata": {
  "kernelspec": {
   "display_name": "Python 3",
   "language": "python",
   "name": "python3"
  },
  "language_info": {
   "codemirror_mode": {
    "name": "ipython",
    "version": 3
   },
   "file_extension": ".py",
   "mimetype": "text/x-python",
   "name": "python",
   "nbconvert_exporter": "python",
   "pygments_lexer": "ipython3",
   "version": "3.10.9"
  },
  "orig_nbformat": 4
 },
 "nbformat": 4,
 "nbformat_minor": 2
}
