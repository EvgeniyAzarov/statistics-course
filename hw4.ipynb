{
 "cells": [
  {
   "cell_type": "markdown",
   "id": "44cdc7fa-3e8a-4cac-98f1-4b0e664ab606",
   "metadata": {},
   "source": [
    "# Homework 4. Statistical hypothesis testing "
   ]
  },
  {
   "cell_type": "markdown",
   "id": "ba427cbb-92de-4d55-91ec-a16db56ad1cc",
   "metadata": {},
   "source": [
    "## Setting\n"
   ]
  },
  {
   "cell_type": "code",
   "execution_count": 10,
   "id": "9c447514-bb2a-41d9-8fcf-604e01568836",
   "metadata": {},
   "outputs": [],
   "source": [
    "import numpy as np\n",
    "from scipy import stats"
   ]
  },
  {
   "cell_type": "code",
   "execution_count": 11,
   "id": "b381b2a9-d2a4-44d7-ab8a-7a2d8fb0c749",
   "metadata": {},
   "outputs": [],
   "source": [
    "import seaborn as sns\n",
    "import matplotlib.pyplot as plt\n",
    "from matplotlib import rcParams\n",
    "rcParams['figure.figsize'] = (20, 6)"
   ]
  },
  {
   "cell_type": "markdown",
   "id": "2de29eb9-bd00-4510-a677-1d2139405144",
   "metadata": {},
   "source": [
    "# Task 1"
   ]
  },
  {
   "cell_type": "markdown",
   "id": "650e8d60-145f-410f-8fae-8c856390c040",
   "metadata": {},
   "source": [
    "За твердженням компанiї «Ухань медiкалз», її новi лiки знижують рiвень холестеролу в кровi на 18 одиниць. \n",
    "Було проведено випробування на 60 пацiєнтах, середнє зниження склало 17.3 одиницi, середньоквадратичне вiдхилення \n",
    "4 одиницi. Чи можна на рiвнi значущостi 1% спростувати твердження компанiї?"
   ]
  },
  {
   "cell_type": "markdown",
   "id": "bcf974b3-1db5-43fb-8930-4a20c6026a1e",
   "metadata": {},
   "source": [
    "З припущення, що величина, на яку знижується холестерол, розподілена нормально, проведемо тест Стьюдента на рівність середнього "
   ]
  },
  {
   "cell_type": "markdown",
   "id": "308e21f4-e9be-4e15-ab58-3a213269d85a",
   "metadata": {},
   "source": [
    "$$H_0: \\mu = 18, \\quad \\alpha = 0.01$$"
   ]
  },
  {
   "cell_type": "markdown",
   "id": "21040351-1015-43bc-bfa4-6c8decebb1ad",
   "metadata": {},
   "source": [
    "З вимірів маємо $\\bar{X} = 17.3$, $\\hat{\\sigma} = 4$\n",
    "\n",
    "Тоді статистика тесту $\\hat{T} = \\sqrt{n}\\cdot\\frac{\\bar{X} - \\mu_0}{\\hat{\\sigma}}$"
   ]
  },
  {
   "cell_type": "code",
   "execution_count": 58,
   "id": "e740f895-fa0a-4f51-af78-7bac13dc8160",
   "metadata": {},
   "outputs": [
    {
     "data": {
      "text/plain": [
       "-1.3555441711725946"
      ]
     },
     "execution_count": 58,
     "metadata": {},
     "output_type": "execute_result"
    }
   ],
   "source": [
    "x = 17.3\n",
    "mu = 18\n",
    "sig = 4\n",
    "n = 60\n",
    "T = n**0.5 * (x-mu) / sig\n",
    "T"
   ]
  },
  {
   "cell_type": "code",
   "execution_count": 59,
   "id": "db42ddc5-c540-4aa0-916c-76279fc1da39",
   "metadata": {},
   "outputs": [],
   "source": [
    "alpha = 0.01"
   ]
  },
  {
   "cell_type": "code",
   "execution_count": 60,
   "id": "2b60822e-0b1b-43ff-bff3-83088a68a097",
   "metadata": {},
   "outputs": [
    {
     "data": {
      "text/plain": [
       "0.18041075552717978"
      ]
     },
     "execution_count": 60,
     "metadata": {},
     "output_type": "execute_result"
    }
   ],
   "source": [
    "pval = 2*stats.t.cdf(-abs(T), df=n-1)\n",
    "pval"
   ]
  },
  {
   "cell_type": "markdown",
   "id": "ae2c3ffe-45f0-445f-b95e-b7cb77131555",
   "metadata": {},
   "source": [
    "$p$-value більше за $\\alpha$, тому твердження компанії не спростовується"
   ]
  },
  {
   "cell_type": "code",
   "execution_count": 62,
   "id": "34dbfff9-58ac-40d5-80de-7bb4308367e0",
   "metadata": {},
   "outputs": [
    {
     "data": {
      "image/png": "[encoded data removed]",
      "text/plain": [
       "<Figure size 1440x432 with 1 Axes>"
      ]
     },
     "metadata": {
      "needs_background": "light"
     },
     "output_type": "display_data"
    }
   ],
   "source": [
    "alpha = 0.01\n",
    "x = np.arange(-4, 4, 0.01)\n",
    "p = stats.t.pdf(x, df=n-1)\n",
    "plt.plot(x, p)\n",
    "plt.vlines(x=T, ymin=0, ymax=0.4, color='black')\n",
    "a = stats.t.ppf(alpha, df=n-1)\n",
    "plt.fill_between(x, 0, p, where=(x<a)|(x > abs(a)), color='red')\n",
    "plt.show()"
   ]
  },
  {
   "cell_type": "markdown",
   "id": "639d1b36-57ec-435d-bf20-e45024a044e5",
   "metadata": {},
   "source": [
    "## Task 2"
   ]
  },
  {
   "cell_type": "markdown",
   "id": "4516561f-a885-4894-be41-8d359c25a45a",
   "metadata": {},
   "source": [
    "В результатi вимiрювання зросту 12 дорослих японцiв та 12 дорослих англiйцiв визначили, \n",
    "що середнiй зрiст японцiв становить 167,5 см iз середньоквадратичним вiдхиленням 7,5 см, \n",
    "а середнiй зрiст англiйцiв становить 175 см iз середньоквадратичним вiдхиленням 5 см.\n",
    "\n",
    "а) Чи можна стверджувати на рiвнi значущостi 5%, що англiйцi вищi, нiж японцi?\n",
    "\n",
    "б) Проаналiзуйте використанi вами припущення."
   ]
  },
  {
   "cell_type": "markdown",
   "id": "9a80fe12-f19e-4288-be1e-6c3fc6a9a092",
   "metadata": {},
   "source": [
    "Маємо гіпотезу \n",
    "\n",
    "$$H_0: \\mu_X < \\mu_Y$$\n",
    "\n",
    "Припущення:\n",
    "1. Зріст -- нормальна випадкова величина\n",
    "2. $X$, $Y$  незалежні\n",
    "3. $X$, $Y$ мають однакову дисперсію\n",
    "\n",
    "$$X \\sim \\mathcal{N}(\\mu_X, \\sigma^2),\\qquad Y \\sim \\mathcal{N} (\\mu_Y, \\sigma^2)$$"
   ]
  },
  {
   "cell_type": "markdown",
   "id": "3d121d8f-cbab-47b9-8a14-dbf82f331a19",
   "metadata": {},
   "source": [
    "Проведемо тест Стьюдента з рівнем значущості $\\alpha = 0.05$\n",
    "\n",
    "$$s_p^2 = \\frac{n\\cdot \\hat{\\sigma}_x^2 + m\\cdot \\hat{\\sigma}_y^2}{n+m-2} \\approx 44.32 $$"
   ]
  },
  {
   "cell_type": "code",
   "execution_count": 16,
   "id": "c85a851f-5b8c-43ae-9658-c47a000cd8cd",
   "metadata": {},
   "outputs": [
    {
     "data": {
      "text/plain": [
       "44.31818181818182"
      ]
     },
     "execution_count": 16,
     "metadata": {},
     "output_type": "execute_result"
    }
   ],
   "source": [
    "sigx = 7.5\n",
    "n = 12\n",
    "sigy = 5\n",
    "m = 12\n",
    "sp2 = (n*sigx**2 + m*sigy**2) / (n+m-2)\n",
    "sp2"
   ]
  },
  {
   "cell_type": "markdown",
   "id": "b16ffa6b-7e72-4871-8f44-c841e52fccbb",
   "metadata": {},
   "source": [
    "Статистика тесту\n",
    "\n",
    "$$\\hat{T} = \\frac{\\bar{X}-\\bar{Y}}{\\sqrt{\\frac{s_p^2}n + \\frac{s_p^2}m}}$$"
   ]
  },
  {
   "cell_type": "code",
   "execution_count": 17,
   "id": "198447dc-f53b-4a32-a4f9-78516604638c",
   "metadata": {},
   "outputs": [
    {
     "data": {
      "text/plain": [
       "-2.7595986330233995"
      ]
     },
     "execution_count": 17,
     "metadata": {},
     "output_type": "execute_result"
    }
   ],
   "source": [
    "X = 167.5\n",
    "Y = 175\n",
    "T = (X - Y) / (sp2/n + sp2/m) ** 0.5\n",
    "T"
   ]
  },
  {
   "cell_type": "code",
   "execution_count": 52,
   "id": "5bf67ace-f8c6-4ac0-b3de-4e5a189135aa",
   "metadata": {},
   "outputs": [
    {
     "data": {
      "image/png": "[encoded data removed]",
      "text/plain": [
       "<Figure size 1440x432 with 1 Axes>"
      ]
     },
     "metadata": {
      "needs_background": "light"
     },
     "output_type": "display_data"
    }
   ],
   "source": [
    "alpha = 0.05\n",
    "x = np.arange(-8, 8, 0.01)\n",
    "p = stats.t.pdf(x, df=m+n-2)\n",
    "plt.plot(x, p)\n",
    "plt.vlines(x=T, ymin=0, ymax=0.4, color='black')\n",
    "a = stats.t.ppf(1-alpha, df=m+n-2)\n",
    "plt.fill_between(x, 0, p, where=(x > a), color='red')\n",
    "plt.show()"
   ]
  },
  {
   "cell_type": "code",
   "execution_count": 28,
   "id": "a134b0d9-cf42-4187-a262-697b2ae20f28",
   "metadata": {},
   "outputs": [
    {
     "data": {
      "text/plain": [
       "0.994282097730297"
      ]
     },
     "execution_count": 28,
     "metadata": {},
     "output_type": "execute_result"
    }
   ],
   "source": [
    "pval = 1 - stats.t.cdf(T, df=n+m-2)\n",
    "pval"
   ]
  },
  {
   "cell_type": "markdown",
   "id": "beb4132e-c494-43a1-9d89-895fe8b6fbc3",
   "metadata": {},
   "source": [
    "Значення статистики не потрапляє в критичну область, отже, гіпотеза не відхиляється "
   ]
  },
  {
   "cell_type": "markdown",
   "id": "0f8b167b-ee7d-4e02-99ca-f72108435b13",
   "metadata": {},
   "source": [
    "Припущення про нормальність зросту звучить змістовно, як і інші припущення про нормальність складних фізичних систем (якийсь натяк на CLT). Незалежність росту також може мати місце. А ось припущення щодо рівності дисперсій залишається під питанням. Більш правильно було б робити тест без цього припущення, але тоді вираз для degrees of freedom був би трошки гірше. "
   ]
  },
  {
   "cell_type": "markdown",
   "id": "49743086-ae34-435e-90ec-6b458eaabdec",
   "metadata": {},
   "source": [
    "## Task 3"
   ]
  },
  {
   "cell_type": "markdown",
   "id": "ded2481b-8f06-4fb2-b6d2-85410fda487c",
   "metadata": {},
   "source": [
    "Компанiя виробляє диски для автомобiльних колiс рiзного дiаметру. Для\n",
    "порiвняння якостi було взято 18 дискiв номiнального дiаметру 17” та 25 дискiв\n",
    "номiнального дiаметру 18”. Виявилося, що вибiрковi середньоквадратичне вiдхилення \n",
    "дiаметру для першої групи становить 0.1”, для другої — 0.2”. На рiвнi\n",
    "значущостi 5 % перевiрте гiпотезу про те, що середньоквадратичнi вiдхилення\n",
    "для дискiв рiзного дiаметру вiдрiзняються."
   ]
  },
  {
   "cell_type": "markdown",
   "id": "5e4d5dce-a3b5-40b8-af5b-75ec76e9eae0",
   "metadata": {},
   "source": [
    "$$H_0: \\sigma_x = \\sigma_y, \\qquad \\alpha = 0.05$$"
   ]
  },
  {
   "cell_type": "code",
   "execution_count": 30,
   "id": "ab6acd9f-da17-4ecd-b6c9-76c055ec6eef",
   "metadata": {},
   "outputs": [],
   "source": [
    "n = 18\n",
    "m = 25"
   ]
  },
  {
   "cell_type": "code",
   "execution_count": 31,
   "id": "41830443-b2e2-456b-a6f3-6febc1b21134",
   "metadata": {},
   "outputs": [],
   "source": [
    "sigx = 0.1\n",
    "sigy = 0.2"
   ]
  },
  {
   "cell_type": "code",
   "execution_count": 32,
   "id": "1e488bb5-eb8c-4b9a-90b3-b7dcdcc9130c",
   "metadata": {},
   "outputs": [],
   "source": [
    "sx = sigx * n / (n - 1)\n",
    "sy = sigy * m / (m - 1)"
   ]
  },
  {
   "cell_type": "markdown",
   "id": "0be3c910-3c02-4f31-b622-368e5307baf3",
   "metadata": {},
   "source": [
    "$$F = \\frac{S_x^2}{S_y^2}$$"
   ]
  },
  {
   "cell_type": "code",
   "execution_count": 34,
   "id": "d9650eb6-8d30-40df-8172-8bb7264a68c9",
   "metadata": {},
   "outputs": [
    {
     "data": {
      "text/plain": [
       "0.25830311418685115"
      ]
     },
     "execution_count": 34,
     "metadata": {},
     "output_type": "execute_result"
    }
   ],
   "source": [
    "F = sx**2 / sy ** 2  \n",
    "F"
   ]
  },
  {
   "cell_type": "code",
   "execution_count": 51,
   "id": "903c256a-0483-49a2-9925-ad0123dda621",
   "metadata": {},
   "outputs": [
    {
     "data": {
      "image/png": "[encoded data removed]",
      "text/plain": [
       "<Figure size 1440x432 with 1 Axes>"
      ]
     },
     "metadata": {
      "needs_background": "light"
     },
     "output_type": "display_data"
    }
   ],
   "source": [
    "alpha = 0.05\n",
    "x = np.arange(0, 4, 0.01)\n",
    "p = stats.f.pdf(x, dfn=n-1, dfd=m-1)\n",
    "plt.plot(x, p)\n",
    "plt.vlines(x=F, ymin=0, ymax=1, color='black')\n",
    "a = stats.f.ppf(alpha/2, dfn=n-1, dfd=m-1)\n",
    "b = stats.f.ppf(1-alpha/2, dfn=n-1, dfd=m-1)\n",
    "plt.fill_between(x, 0, p, where=(x < a)| (x > b), color='red')\n",
    "plt.show()"
   ]
  },
  {
   "cell_type": "markdown",
   "id": "7c389b4e-5d29-4fc3-a87c-fee8efd8adae",
   "metadata": {},
   "source": [
    "Значення статистики потрапляє в критичну область, отже, нульова гіпотеза відхиляється, тому середьноквадратичні відхилення для дисків різних діаметрів різні."
   ]
  },
  {
   "cell_type": "markdown",
   "id": "013afe8b-9c99-4676-811d-29f934c482b8",
   "metadata": {},
   "source": [
    "## Task 4"
   ]
  },
  {
   "cell_type": "markdown",
   "id": "d5881eb3-bbbc-4ddf-944c-7b0aea797c19",
   "metadata": {},
   "source": [
    "За допомогою онлайн-генератора змоделюйте показники температури пацiєнтiв лiкарнi \n",
    "до та пiсля лiкування; отриманi вибiрки позначимо $X$ та $Y$. \n",
    "Вважається, що показники температури до лiкування мають нормальний розподiл з параметрами \n",
    "$\\mathcal{N}(\\mu_X, \\sigma^2)$, пiсля лiкування -- нормальний розподiл з параметрами $\\mathcal{N}(\\mu_Y, \\sigma^2)$\n",
    "\n",
    "а) Побудуйте (точний) 95 %-й довiрчий iнтервал для середнього значення температури до лiкування.\n",
    "\n",
    "б) За припущення незалежностi вибiрок X та Y сумiсна виправлена дисперсiя\n",
    "\n",
    "$$s_p^2 = \\frac1{48} \\left(\\sum_{k=1}^{25} (X_k-\\bar{X})^2 + \\sum_{k=1}^{25} (Y_k-\\bar{Y})^2\\right)$$\n",
    "\n",
    "має розподiл $\\sigma^2\\chi_{48}^2$ (Можна це довести, проте це не обов’язково.) Враховуючи цю iнформацiю, побудуйте (точний) 95 %-й правостороннiй довiрчий iнтервал\n",
    "для $\\sigma^2$\n",
    "\n",
    "в) Побудуйте (точний) 95 %-й лiвостороннiй довiрчий iнтервал для рiзницi\n",
    "середнiх $\\mu_X-\\mu_Y$. Зробiть вiдповiдний висновок про ефективнiсть лiкування\n",
    "(перевiрте вiдповiдну гiпотезу).\n",
    "\n",
    "г) Наскiльки реалiстичними є зробленi припущення (кратнi вибiрки, нормаль-\n",
    "ний розподiл, однаковi дисперсiї, незалежнiсть X та Y )?"
   ]
  },
  {
   "cell_type": "code",
   "execution_count": 84,
   "id": "408389b7-95b3-49e7-921a-4b865d145961",
   "metadata": {},
   "outputs": [],
   "source": [
    "X = [3.7590e+1,3.7050e+1,3.6510e+1,3.8690e+1,3.8540e+1,3.7820e+1,\n",
    "     3.8550e+1,3.8300e+1,3.6990e+1,3.8450e+1,3.9030e+1,3.8060e+1,\n",
    "     3.7400e+1,3.8030e+1,3.8160e+1,3.7070e+1,3.8470e+1,3.8380e+1,\n",
    "     3.6830e+1,3.7890e+1,3.8400e+1,3.6070e+1,3.8500e+1, 3.8980e+1, 3.9400e+1,]\n",
    "X = np.array(X)"
   ]
  },
  {
   "cell_type": "code",
   "execution_count": 85,
   "id": "f26bc527-49a5-4b78-8472-571e9289dbff",
   "metadata": {},
   "outputs": [],
   "source": [
    "Y = [3.5800e+1,3.5710e+1,3.5310e+1,3.6420e+1,3.7240e+1,3.6730e+1,\n",
    "     3.5810e+1,3.7720e+1,3.7180e+1,3.7130e+1,3.5660e+1,3.6040e+1,\n",
    "     3.7980e+1,3.6770e+1,3.6260e+1,3.5230e+1,3.7830e+1,3.7070e+1,\n",
    "     3.7330e+1,3.6110e+1,3.5610e+1,3.8520e+1,3.6080e+1,3.4800e+1,3.5480e+1,]\n",
    "Y = np.array(Y)"
   ]
  },
  {
   "cell_type": "markdown",
   "id": "5dce53d4-10eb-4a94-85c6-5666057d6a30",
   "metadata": {},
   "source": [
    "### A"
   ]
  },
  {
   "cell_type": "markdown",
   "id": "430941eb-5fda-49d4-9862-22a4152b0575",
   "metadata": {},
   "source": [
    "$$\\displaystyle \\mu \\in \\left[{\\hat {\\mu }}-t_{n-1,1-\\alpha /2}{\\frac {1}{\\sqrt {n}}}s,{\\hat {\\mu }}+t_{n-1,1-\\alpha /2}{\\frac {1}{\\sqrt {n}}}s\\right]$$"
   ]
  },
  {
   "cell_type": "code",
   "execution_count": 112,
   "id": "4e5a838a-a173-4d45-ae15-4c9f1df97e5c",
   "metadata": {},
   "outputs": [],
   "source": [
    "n = 25\n",
    "alpha = 0.05\n",
    "s = X.std(ddof=1) \n",
    "ta = stats.t.ppf(1-alpha/2, df=n-1)\n",
    "d = ta * s / n**0.5 "
   ]
  },
  {
   "cell_type": "code",
   "execution_count": 113,
   "id": "da103eb4-066f-4a35-9d9c-3ea199d5a379",
   "metadata": {},
   "outputs": [
    {
     "data": {
      "text/plain": [
       "(37.158615657089435, 37.861606982110565)"
      ]
     },
     "execution_count": 113,
     "metadata": {},
     "output_type": "execute_result"
    }
   ],
   "source": [
    "m = X.mean()\n",
    "(m - d, m + d)"
   ]
  },
  {
   "cell_type": "markdown",
   "id": "fd5a749c-836a-4358-a98c-5062330a79d2",
   "metadata": {},
   "source": [
    "### B"
   ]
  },
  {
   "cell_type": "markdown",
   "id": "6e5ac9dc-8f46-4cd0-af95-29d4ad8c2050",
   "metadata": {},
   "source": [
    "$$s_p^2 = \\frac1{48} \\left(\\sum_{k=1}^{25} (X_k-\\bar{X})^2 + \\sum_{k=1}^{25} (Y_k-\\bar{Y})^2\\right) \\sim \\sigma^2 \\chi_{48}^2$$\n"
   ]
  },
  {
   "cell_type": "code",
   "execution_count": 135,
   "id": "3d6e216f-172c-450a-9537-d03ff34c82ad",
   "metadata": {},
   "outputs": [
    {
     "data": {
      "text/plain": [
       "0.835627463796603"
      ]
     },
     "execution_count": 135,
     "metadata": {},
     "output_type": "execute_result"
    }
   ],
   "source": [
    "sp2 = 1/(2*n-2) * (n * X.var() + n * Y.var())\n",
    "sp2"
   ]
  },
  {
   "cell_type": "code",
   "execution_count": null,
   "id": "d34acd8b-cf62-4bba-a58d-21ab012d95e5",
   "metadata": {},
   "outputs": [],
   "source": []
  }
 ],
 "metadata": {
  "kernelspec": {
   "display_name": "Python 3",
   "language": "python",
   "name": "python3"
  },
  "language_info": {
   "codemirror_mode": {
    "name": "ipython",
    "version": 3
   },
   "file_extension": ".py",
   "mimetype": "text/x-python",
   "name": "python",
   "nbconvert_exporter": "python",
   "pygments_lexer": "ipython3",
   "version": "3.10.4"
  }
 },
 "nbformat": 4,
 "nbformat_minor": 5
}
